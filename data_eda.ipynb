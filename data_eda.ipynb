{
 "cells": [
  {
   "cell_type": "code",
   "execution_count": 3,
   "metadata": {},
   "outputs": [],
   "source": [
    "import pandas as pd\n",
    "import numpy as np\n",
    "import matplotlib.pyplot as plt\n",
    "\n",
    "from sklearn.model_selection import train_test_split\n",
    "from sklearn.preprocessing import StandardScaler, LabelEncoder\n",
    "from sklearn.decomposition import PCA\n",
    "\n",
    "from sklearn.naive_bayes import GaussianNB\n",
    "from sklearn.cluster import KMeans\n",
    "from sklearn.metrics import accuracy_score, confusion_matrix\n",
    "plt.style.use('ggplot')\n",
    "\n",
    "%matplotlib inline"
   ]
  },
  {
   "cell_type": "code",
   "execution_count": 4,
   "metadata": {},
   "outputs": [],
   "source": [
    "from src.Cleaner import *"
   ]
  },
  {
   "cell_type": "code",
   "execution_count": 5,
   "metadata": {},
   "outputs": [],
   "source": [
    "df = pd.read_csv('data/Colorectal_GSE44076.csv')\n",
    "df2 = pd.read_csv('data/Colorectal_GSE21510.csv')"
   ]
  },
  {
   "cell_type": "code",
   "execution_count": 6,
   "metadata": {},
   "outputs": [
    {
     "data": {
      "text/html": [
       "<div>\n",
       "<style scoped>\n",
       "    .dataframe tbody tr th:only-of-type {\n",
       "        vertical-align: middle;\n",
       "    }\n",
       "\n",
       "    .dataframe tbody tr th {\n",
       "        vertical-align: top;\n",
       "    }\n",
       "\n",
       "    .dataframe thead th {\n",
       "        text-align: right;\n",
       "    }\n",
       "</style>\n",
       "<table border=\"1\" class=\"dataframe\">\n",
       "  <thead>\n",
       "    <tr style=\"text-align: right;\">\n",
       "      <th></th>\n",
       "      <th>samples</th>\n",
       "      <th>type</th>\n",
       "      <th>11715100_at</th>\n",
       "      <th>11715101_s_at</th>\n",
       "      <th>11715102_x_at</th>\n",
       "      <th>11715103_x_at</th>\n",
       "      <th>11715104_s_at</th>\n",
       "      <th>11715105_at</th>\n",
       "      <th>11715106_x_at</th>\n",
       "      <th>11715107_s_at</th>\n",
       "      <th>...</th>\n",
       "      <th>AFFX-r2-TagO-3_at</th>\n",
       "      <th>AFFX-r2-TagO-5_at</th>\n",
       "      <th>AFFX-r2-TagQ-3_at</th>\n",
       "      <th>AFFX-r2-TagQ-5_at</th>\n",
       "      <th>AFFX-ThrX-3_at</th>\n",
       "      <th>AFFX-ThrX-5_at</th>\n",
       "      <th>AFFX-ThrX-M_at</th>\n",
       "      <th>AFFX-TrpnX-3_at</th>\n",
       "      <th>AFFX-TrpnX-5_at</th>\n",
       "      <th>AFFX-TrpnX-M_at</th>\n",
       "    </tr>\n",
       "  </thead>\n",
       "  <tbody>\n",
       "    <tr>\n",
       "      <th>0</th>\n",
       "      <td>648</td>\n",
       "      <td>normal</td>\n",
       "      <td>4.033083</td>\n",
       "      <td>3.991328</td>\n",
       "      <td>3.522487</td>\n",
       "      <td>3.278373</td>\n",
       "      <td>7.201681</td>\n",
       "      <td>2.166355</td>\n",
       "      <td>2.841044</td>\n",
       "      <td>2.217360</td>\n",
       "      <td>...</td>\n",
       "      <td>2.233052</td>\n",
       "      <td>2.321627</td>\n",
       "      <td>2.602364</td>\n",
       "      <td>2.272951</td>\n",
       "      <td>8.236181</td>\n",
       "      <td>4.766301</td>\n",
       "      <td>6.624126</td>\n",
       "      <td>2.191907</td>\n",
       "      <td>2.089431</td>\n",
       "      <td>2.196678</td>\n",
       "    </tr>\n",
       "    <tr>\n",
       "      <th>1</th>\n",
       "      <td>649</td>\n",
       "      <td>normal</td>\n",
       "      <td>3.117273</td>\n",
       "      <td>4.047258</td>\n",
       "      <td>3.042704</td>\n",
       "      <td>3.284518</td>\n",
       "      <td>8.425413</td>\n",
       "      <td>2.139838</td>\n",
       "      <td>2.632561</td>\n",
       "      <td>2.375537</td>\n",
       "      <td>...</td>\n",
       "      <td>2.033923</td>\n",
       "      <td>2.335442</td>\n",
       "      <td>2.061999</td>\n",
       "      <td>1.979024</td>\n",
       "      <td>7.079312</td>\n",
       "      <td>4.687041</td>\n",
       "      <td>5.775218</td>\n",
       "      <td>2.013578</td>\n",
       "      <td>2.189192</td>\n",
       "      <td>2.106554</td>\n",
       "    </tr>\n",
       "    <tr>\n",
       "      <th>2</th>\n",
       "      <td>650</td>\n",
       "      <td>normal</td>\n",
       "      <td>3.513162</td>\n",
       "      <td>4.154993</td>\n",
       "      <td>3.067877</td>\n",
       "      <td>3.478020</td>\n",
       "      <td>7.337592</td>\n",
       "      <td>2.070858</td>\n",
       "      <td>2.632643</td>\n",
       "      <td>2.542989</td>\n",
       "      <td>...</td>\n",
       "      <td>1.874741</td>\n",
       "      <td>2.522885</td>\n",
       "      <td>2.577079</td>\n",
       "      <td>2.017303</td>\n",
       "      <td>6.966157</td>\n",
       "      <td>3.498785</td>\n",
       "      <td>5.384117</td>\n",
       "      <td>2.124996</td>\n",
       "      <td>2.175054</td>\n",
       "      <td>2.168932</td>\n",
       "    </tr>\n",
       "    <tr>\n",
       "      <th>3</th>\n",
       "      <td>651</td>\n",
       "      <td>normal</td>\n",
       "      <td>3.487588</td>\n",
       "      <td>4.505968</td>\n",
       "      <td>3.688899</td>\n",
       "      <td>3.642465</td>\n",
       "      <td>7.319168</td>\n",
       "      <td>2.191685</td>\n",
       "      <td>2.567842</td>\n",
       "      <td>2.551201</td>\n",
       "      <td>...</td>\n",
       "      <td>1.795535</td>\n",
       "      <td>2.147798</td>\n",
       "      <td>2.439898</td>\n",
       "      <td>2.157677</td>\n",
       "      <td>8.899968</td>\n",
       "      <td>6.943802</td>\n",
       "      <td>7.908001</td>\n",
       "      <td>1.969787</td>\n",
       "      <td>2.125711</td>\n",
       "      <td>2.311073</td>\n",
       "    </tr>\n",
       "    <tr>\n",
       "      <th>4</th>\n",
       "      <td>652</td>\n",
       "      <td>normal</td>\n",
       "      <td>3.096174</td>\n",
       "      <td>3.997803</td>\n",
       "      <td>3.404045</td>\n",
       "      <td>2.984088</td>\n",
       "      <td>7.652969</td>\n",
       "      <td>2.374705</td>\n",
       "      <td>2.178836</td>\n",
       "      <td>2.852997</td>\n",
       "      <td>...</td>\n",
       "      <td>1.965137</td>\n",
       "      <td>2.655806</td>\n",
       "      <td>2.330900</td>\n",
       "      <td>2.230463</td>\n",
       "      <td>7.878767</td>\n",
       "      <td>5.718627</td>\n",
       "      <td>6.654383</td>\n",
       "      <td>2.015329</td>\n",
       "      <td>2.339691</td>\n",
       "      <td>2.347252</td>\n",
       "    </tr>\n",
       "  </tbody>\n",
       "</table>\n",
       "<p>5 rows × 49388 columns</p>\n",
       "</div>"
      ],
      "text/plain": [
       "   samples    type  11715100_at  11715101_s_at  11715102_x_at  11715103_x_at  \\\n",
       "0      648  normal     4.033083       3.991328       3.522487       3.278373   \n",
       "1      649  normal     3.117273       4.047258       3.042704       3.284518   \n",
       "2      650  normal     3.513162       4.154993       3.067877       3.478020   \n",
       "3      651  normal     3.487588       4.505968       3.688899       3.642465   \n",
       "4      652  normal     3.096174       3.997803       3.404045       2.984088   \n",
       "\n",
       "   11715104_s_at  11715105_at  11715106_x_at  11715107_s_at  ...  \\\n",
       "0       7.201681     2.166355       2.841044       2.217360  ...   \n",
       "1       8.425413     2.139838       2.632561       2.375537  ...   \n",
       "2       7.337592     2.070858       2.632643       2.542989  ...   \n",
       "3       7.319168     2.191685       2.567842       2.551201  ...   \n",
       "4       7.652969     2.374705       2.178836       2.852997  ...   \n",
       "\n",
       "   AFFX-r2-TagO-3_at  AFFX-r2-TagO-5_at  AFFX-r2-TagQ-3_at  AFFX-r2-TagQ-5_at  \\\n",
       "0           2.233052           2.321627           2.602364           2.272951   \n",
       "1           2.033923           2.335442           2.061999           1.979024   \n",
       "2           1.874741           2.522885           2.577079           2.017303   \n",
       "3           1.795535           2.147798           2.439898           2.157677   \n",
       "4           1.965137           2.655806           2.330900           2.230463   \n",
       "\n",
       "   AFFX-ThrX-3_at  AFFX-ThrX-5_at  AFFX-ThrX-M_at  AFFX-TrpnX-3_at  \\\n",
       "0        8.236181        4.766301        6.624126         2.191907   \n",
       "1        7.079312        4.687041        5.775218         2.013578   \n",
       "2        6.966157        3.498785        5.384117         2.124996   \n",
       "3        8.899968        6.943802        7.908001         1.969787   \n",
       "4        7.878767        5.718627        6.654383         2.015329   \n",
       "\n",
       "   AFFX-TrpnX-5_at  AFFX-TrpnX-M_at  \n",
       "0         2.089431         2.196678  \n",
       "1         2.189192         2.106554  \n",
       "2         2.175054         2.168932  \n",
       "3         2.125711         2.311073  \n",
       "4         2.339691         2.347252  \n",
       "\n",
       "[5 rows x 49388 columns]"
      ]
     },
     "execution_count": 6,
     "metadata": {},
     "output_type": "execute_result"
    }
   ],
   "source": [
    "df.head()"
   ]
  },
  {
   "cell_type": "code",
   "execution_count": 33,
   "metadata": {},
   "outputs": [],
   "source": [
    "lb = LabelEncoder()\n",
    "df2['type'] = lb.fit_transform(df2['type'])\n"
   ]
  },
  {
   "cell_type": "code",
   "execution_count": 35,
   "metadata": {},
   "outputs": [
    {
     "data": {
      "text/plain": [
       "array([1, 0, 2], dtype=int64)"
      ]
     },
     "execution_count": 35,
     "metadata": {},
     "output_type": "execute_result"
    }
   ],
   "source": [
    "df2['type'].unique()"
   ]
  },
  {
   "cell_type": "code",
   "execution_count": 16,
   "metadata": {},
   "outputs": [
    {
     "data": {
      "text/html": [
       "<div>\n",
       "<style scoped>\n",
       "    .dataframe tbody tr th:only-of-type {\n",
       "        vertical-align: middle;\n",
       "    }\n",
       "\n",
       "    .dataframe tbody tr th {\n",
       "        vertical-align: top;\n",
       "    }\n",
       "\n",
       "    .dataframe thead th {\n",
       "        text-align: right;\n",
       "    }\n",
       "</style>\n",
       "<table border=\"1\" class=\"dataframe\">\n",
       "  <thead>\n",
       "    <tr style=\"text-align: right;\">\n",
       "      <th></th>\n",
       "      <th>Count</th>\n",
       "    </tr>\n",
       "    <tr>\n",
       "      <th>type</th>\n",
       "      <th></th>\n",
       "    </tr>\n",
       "  </thead>\n",
       "  <tbody>\n",
       "    <tr>\n",
       "      <th>adenocarcinoma</th>\n",
       "      <td>97</td>\n",
       "    </tr>\n",
       "    <tr>\n",
       "      <th>normal</th>\n",
       "      <td>97</td>\n",
       "    </tr>\n",
       "  </tbody>\n",
       "</table>\n",
       "</div>"
      ],
      "text/plain": [
       "                Count\n",
       "type                 \n",
       "adenocarcinoma     97\n",
       "normal             97"
      ]
     },
     "execution_count": 16,
     "metadata": {},
     "output_type": "execute_result"
    }
   ],
   "source": [
    "#Check for null values\n",
    "df.isnull().any(axis=1).unique()\n",
    "\n",
    "#Check how many normal and cancer there are\n",
    "target_label_count = pd.DataFrame(df.groupby('type')['type'].count())\n",
    "target_label_count.rename({'type': 'Count'}, axis=1, inplace=True)\n",
    "\n",
    "target_label_count"
   ]
  },
  {
   "cell_type": "code",
   "execution_count": 5,
   "metadata": {},
   "outputs": [],
   "source": [
    "mask = df['type'] == 'normal'\n",
    "df['type'] = mask.astype(int)"
   ]
  },
  {
   "cell_type": "code",
   "execution_count": 6,
   "metadata": {},
   "outputs": [
    {
     "data": {
      "text/plain": [
       "target\n",
       "0    97\n",
       "1    97\n",
       "Name: target, dtype: int64"
      ]
     },
     "execution_count": 6,
     "metadata": {},
     "output_type": "execute_result"
    }
   ],
   "source": [
    "df.drop(columns='samples', inplace=True)\n",
    "df.rename({'type': 'target'}, axis=1, inplace=True)\n",
    "df.groupby('target')['target'].count()\n",
    "\n"
   ]
  },
  {
   "cell_type": "code",
   "execution_count": 7,
   "metadata": {},
   "outputs": [],
   "source": [
    "labels = ['Normal', 'Adenocarcinoma']"
   ]
  },
  {
   "cell_type": "code",
   "execution_count": 8,
   "metadata": {},
   "outputs": [],
   "source": [
    "X = df.drop(columns='target')\n",
    "y = df['target']"
   ]
  },
  {
   "cell_type": "code",
   "execution_count": 9,
   "metadata": {},
   "outputs": [],
   "source": [
    "X_train, X_test, y_train, y_test = train_test_split(X, y, test_size=.35)"
   ]
  },
  {
   "cell_type": "code",
   "execution_count": 10,
   "metadata": {},
   "outputs": [],
   "source": [
    "#Standardize the data\n",
    "scaler = StandardScaler()\n",
    "X_train_scaled = scaler.fit_transform(X_train)\n",
    "X_test_scaled = scaler.transform(X_test)"
   ]
  },
  {
   "cell_type": "code",
   "execution_count": 11,
   "metadata": {},
   "outputs": [
    {
     "name": "stdout",
     "output_type": "stream",
     "text": [
      "32\n"
     ]
    },
    {
     "data": {
      "image/png": "[encoded data removed]",
      "text/plain": [
       "<Figure size 1296x864 with 2 Axes>"
      ]
     },
     "metadata": {
      "needs_background": "light"
     },
     "output_type": "display_data"
    }
   ],
   "source": [
    "pcd = PCA()\n",
    "pcd.fit_transform(X_train)\n",
    "total_variance = sum(pcd.explained_variance_)\n",
    "curr_variance = 0\n",
    "k = 0\n",
    "while curr_variance/total_variance < .80:\n",
    "    curr_variance += pcd.explained_variance_[k]\n",
    "    k += 1\n",
    "    \n",
    "\n",
    "features = range(k)\n",
    "pcd = PCA(n_components=k)\n",
    "X_train_pca = pcd.fit_transform(X_test)\n",
    "X_test_pca = pcd.transform(X_test)\n",
    "\n",
    "variance = pcd.explained_variance_ratio_\n",
    "cumsum_variance = pcd.explained_variance_ratio_.cumsum()\n",
    "\n",
    "fig, axs = plt.subplots(2,1, figsize=(18,12))\n",
    "ax = axs.flatten()\n",
    "ax[0].bar(features, variance)\n",
    "ax[0].set_ylabel('Variance %')\n",
    "ax[0].set_xlabel('Number of Components')\n",
    "ax[0].set_title('Explained Variance By Components')\n",
    "\n",
    "\n",
    "ax[1].plot(features, cumsum_variance, marker='o', linestyle='--')\n",
    "ax[1].set_ylabel('Cumulative Explained Variance %')\n",
    "ax[1].set_xlabel('Number of Components')\n",
    "ax[1].set_title('Explained Variance By Components')\n",
    "print(k)"
   ]
  },
  {
   "cell_type": "markdown",
   "metadata": {},
   "source": [
    "## Plot the first 3 PCA"
   ]
  },
  {
   "cell_type": "code",
   "execution_count": 15,
   "metadata": {},
   "outputs": [
    {
     "data": {
      "text/plain": [
       "<Figure size 432x288 with 0 Axes>"
      ]
     },
     "metadata": {},
     "output_type": "display_data"
    }
   ],
   "source": [
    "pca3 = PCA(n_components=3).fit(X_train)\n",
    "X_train_reduced = pca3.transform(X_train)\n",
    "\n",
    "plt.clf()"
   ]
  }
 ],
 "metadata": {
  "kernelspec": {
   "display_name": "Python 3",
   "language": "python",
   "name": "python3"
  },
  "language_info": {
   "codemirror_mode": {
    "name": "ipython",
    "version": 3
   },
   "file_extension": ".py",
   "mimetype": "text/x-python",
   "name": "python",
   "nbconvert_exporter": "python",
   "pygments_lexer": "ipython3",
   "version": "3.7.4"
  }
 },
 "nbformat": 4,
 "nbformat_minor": 4
}
