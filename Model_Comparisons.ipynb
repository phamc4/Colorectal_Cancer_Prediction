{
 "cells": [
  {
   "cell_type": "code",
   "execution_count": 44,
   "metadata": {},
   "outputs": [
    {
     "name": "stderr",
     "output_type": "stream",
     "text": [
      "Using TensorFlow backend.\n"
     ]
    },
    {
     "ename": "ModuleNotFoundError",
     "evalue": "No module named 'tensorflow'",
     "output_type": "error",
     "traceback": [
      "\u001b[1;31m---------------------------------------------------------------------------\u001b[0m",
      "\u001b[1;31mModuleNotFoundError\u001b[0m                       Traceback (most recent call last)",
      "\u001b[1;32m<ipython-input-44-4c89ed308fa4>\u001b[0m in \u001b[0;36m<module>\u001b[1;34m\u001b[0m\n\u001b[0;32m     13\u001b[0m \u001b[1;32mfrom\u001b[0m \u001b[0msklearn\u001b[0m\u001b[1;33m.\u001b[0m\u001b[0mmetrics\u001b[0m \u001b[1;32mimport\u001b[0m \u001b[0maccuracy_score\u001b[0m\u001b[1;33m,\u001b[0m \u001b[0mconfusion_matrix\u001b[0m\u001b[1;33m\u001b[0m\u001b[1;33m\u001b[0m\u001b[0m\n\u001b[0;32m     14\u001b[0m \u001b[1;33m\u001b[0m\u001b[0m\n\u001b[1;32m---> 15\u001b[1;33m \u001b[1;32mfrom\u001b[0m \u001b[0mkeras\u001b[0m\u001b[1;33m.\u001b[0m\u001b[0mmodels\u001b[0m \u001b[1;32mimport\u001b[0m \u001b[0mSequential\u001b[0m\u001b[1;33m\u001b[0m\u001b[1;33m\u001b[0m\u001b[0m\n\u001b[0m\u001b[0;32m     16\u001b[0m \u001b[1;32mfrom\u001b[0m \u001b[0mkeras\u001b[0m\u001b[1;33m.\u001b[0m\u001b[0mlayers\u001b[0m \u001b[1;32mimport\u001b[0m \u001b[0mDense\u001b[0m\u001b[1;33m,\u001b[0m \u001b[0mDropout\u001b[0m\u001b[1;33m,\u001b[0m \u001b[0mActivation\u001b[0m\u001b[1;33m\u001b[0m\u001b[1;33m\u001b[0m\u001b[0m\n\u001b[0;32m     17\u001b[0m \u001b[0mplt\u001b[0m\u001b[1;33m.\u001b[0m\u001b[0mstyle\u001b[0m\u001b[1;33m.\u001b[0m\u001b[0muse\u001b[0m\u001b[1;33m(\u001b[0m\u001b[1;34m'ggplot'\u001b[0m\u001b[1;33m)\u001b[0m\u001b[1;33m\u001b[0m\u001b[1;33m\u001b[0m\u001b[0m\n",
      "\u001b[1;32mc:\\users\\tupha\\appdata\\local\\programs\\python\\python38-32\\lib\\site-packages\\keras\\__init__.py\u001b[0m in \u001b[0;36m<module>\u001b[1;34m\u001b[0m\n\u001b[0;32m      1\u001b[0m \u001b[1;32mfrom\u001b[0m \u001b[0m__future__\u001b[0m \u001b[1;32mimport\u001b[0m \u001b[0mabsolute_import\u001b[0m\u001b[1;33m\u001b[0m\u001b[1;33m\u001b[0m\u001b[0m\n\u001b[0;32m      2\u001b[0m \u001b[1;33m\u001b[0m\u001b[0m\n\u001b[1;32m----> 3\u001b[1;33m \u001b[1;32mfrom\u001b[0m \u001b[1;33m.\u001b[0m \u001b[1;32mimport\u001b[0m \u001b[0mutils\u001b[0m\u001b[1;33m\u001b[0m\u001b[1;33m\u001b[0m\u001b[0m\n\u001b[0m\u001b[0;32m      4\u001b[0m \u001b[1;32mfrom\u001b[0m \u001b[1;33m.\u001b[0m \u001b[1;32mimport\u001b[0m \u001b[0mactivations\u001b[0m\u001b[1;33m\u001b[0m\u001b[1;33m\u001b[0m\u001b[0m\n\u001b[0;32m      5\u001b[0m \u001b[1;32mfrom\u001b[0m \u001b[1;33m.\u001b[0m \u001b[1;32mimport\u001b[0m \u001b[0mapplications\u001b[0m\u001b[1;33m\u001b[0m\u001b[1;33m\u001b[0m\u001b[0m\n",
      "\u001b[1;32mc:\\users\\tupha\\appdata\\local\\programs\\python\\python38-32\\lib\\site-packages\\keras\\utils\\__init__.py\u001b[0m in \u001b[0;36m<module>\u001b[1;34m\u001b[0m\n\u001b[0;32m      4\u001b[0m \u001b[1;32mfrom\u001b[0m \u001b[1;33m.\u001b[0m \u001b[1;32mimport\u001b[0m \u001b[0mdata_utils\u001b[0m\u001b[1;33m\u001b[0m\u001b[1;33m\u001b[0m\u001b[0m\n\u001b[0;32m      5\u001b[0m \u001b[1;32mfrom\u001b[0m \u001b[1;33m.\u001b[0m \u001b[1;32mimport\u001b[0m \u001b[0mio_utils\u001b[0m\u001b[1;33m\u001b[0m\u001b[1;33m\u001b[0m\u001b[0m\n\u001b[1;32m----> 6\u001b[1;33m \u001b[1;32mfrom\u001b[0m \u001b[1;33m.\u001b[0m \u001b[1;32mimport\u001b[0m \u001b[0mconv_utils\u001b[0m\u001b[1;33m\u001b[0m\u001b[1;33m\u001b[0m\u001b[0m\n\u001b[0m\u001b[0;32m      7\u001b[0m \u001b[1;32mfrom\u001b[0m \u001b[1;33m.\u001b[0m \u001b[1;32mimport\u001b[0m \u001b[0mlosses_utils\u001b[0m\u001b[1;33m\u001b[0m\u001b[1;33m\u001b[0m\u001b[0m\n\u001b[0;32m      8\u001b[0m \u001b[1;32mfrom\u001b[0m \u001b[1;33m.\u001b[0m \u001b[1;32mimport\u001b[0m \u001b[0mmetrics_utils\u001b[0m\u001b[1;33m\u001b[0m\u001b[1;33m\u001b[0m\u001b[0m\n",
      "\u001b[1;32mc:\\users\\tupha\\appdata\\local\\programs\\python\\python38-32\\lib\\site-packages\\keras\\utils\\conv_utils.py\u001b[0m in \u001b[0;36m<module>\u001b[1;34m\u001b[0m\n\u001b[0;32m      7\u001b[0m \u001b[1;32mfrom\u001b[0m \u001b[0msix\u001b[0m\u001b[1;33m.\u001b[0m\u001b[0mmoves\u001b[0m \u001b[1;32mimport\u001b[0m \u001b[0mrange\u001b[0m\u001b[1;33m\u001b[0m\u001b[1;33m\u001b[0m\u001b[0m\n\u001b[0;32m      8\u001b[0m \u001b[1;32mimport\u001b[0m \u001b[0mnumpy\u001b[0m \u001b[1;32mas\u001b[0m \u001b[0mnp\u001b[0m\u001b[1;33m\u001b[0m\u001b[1;33m\u001b[0m\u001b[0m\n\u001b[1;32m----> 9\u001b[1;33m \u001b[1;32mfrom\u001b[0m \u001b[1;33m.\u001b[0m\u001b[1;33m.\u001b[0m \u001b[1;32mimport\u001b[0m \u001b[0mbackend\u001b[0m \u001b[1;32mas\u001b[0m \u001b[0mK\u001b[0m\u001b[1;33m\u001b[0m\u001b[1;33m\u001b[0m\u001b[0m\n\u001b[0m\u001b[0;32m     10\u001b[0m \u001b[1;33m\u001b[0m\u001b[0m\n\u001b[0;32m     11\u001b[0m \u001b[1;33m\u001b[0m\u001b[0m\n",
      "\u001b[1;32mc:\\users\\tupha\\appdata\\local\\programs\\python\\python38-32\\lib\\site-packages\\keras\\backend\\__init__.py\u001b[0m in \u001b[0;36m<module>\u001b[1;34m\u001b[0m\n\u001b[1;32m----> 1\u001b[1;33m \u001b[1;32mfrom\u001b[0m \u001b[1;33m.\u001b[0m\u001b[0mload_backend\u001b[0m \u001b[1;32mimport\u001b[0m \u001b[0mepsilon\u001b[0m\u001b[1;33m\u001b[0m\u001b[1;33m\u001b[0m\u001b[0m\n\u001b[0m\u001b[0;32m      2\u001b[0m \u001b[1;32mfrom\u001b[0m \u001b[1;33m.\u001b[0m\u001b[0mload_backend\u001b[0m \u001b[1;32mimport\u001b[0m \u001b[0mset_epsilon\u001b[0m\u001b[1;33m\u001b[0m\u001b[1;33m\u001b[0m\u001b[0m\n\u001b[0;32m      3\u001b[0m \u001b[1;32mfrom\u001b[0m \u001b[1;33m.\u001b[0m\u001b[0mload_backend\u001b[0m \u001b[1;32mimport\u001b[0m \u001b[0mfloatx\u001b[0m\u001b[1;33m\u001b[0m\u001b[1;33m\u001b[0m\u001b[0m\n\u001b[0;32m      4\u001b[0m \u001b[1;32mfrom\u001b[0m \u001b[1;33m.\u001b[0m\u001b[0mload_backend\u001b[0m \u001b[1;32mimport\u001b[0m \u001b[0mset_floatx\u001b[0m\u001b[1;33m\u001b[0m\u001b[1;33m\u001b[0m\u001b[0m\n\u001b[0;32m      5\u001b[0m \u001b[1;32mfrom\u001b[0m \u001b[1;33m.\u001b[0m\u001b[0mload_backend\u001b[0m \u001b[1;32mimport\u001b[0m \u001b[0mcast_to_floatx\u001b[0m\u001b[1;33m\u001b[0m\u001b[1;33m\u001b[0m\u001b[0m\n",
      "\u001b[1;32mc:\\users\\tupha\\appdata\\local\\programs\\python\\python38-32\\lib\\site-packages\\keras\\backend\\load_backend.py\u001b[0m in \u001b[0;36m<module>\u001b[1;34m\u001b[0m\n\u001b[0;32m     88\u001b[0m \u001b[1;32melif\u001b[0m \u001b[0m_BACKEND\u001b[0m \u001b[1;33m==\u001b[0m \u001b[1;34m'tensorflow'\u001b[0m\u001b[1;33m:\u001b[0m\u001b[1;33m\u001b[0m\u001b[1;33m\u001b[0m\u001b[0m\n\u001b[0;32m     89\u001b[0m     \u001b[0msys\u001b[0m\u001b[1;33m.\u001b[0m\u001b[0mstderr\u001b[0m\u001b[1;33m.\u001b[0m\u001b[0mwrite\u001b[0m\u001b[1;33m(\u001b[0m\u001b[1;34m'Using TensorFlow backend.\\n'\u001b[0m\u001b[1;33m)\u001b[0m\u001b[1;33m\u001b[0m\u001b[1;33m\u001b[0m\u001b[0m\n\u001b[1;32m---> 90\u001b[1;33m     \u001b[1;32mfrom\u001b[0m \u001b[1;33m.\u001b[0m\u001b[0mtensorflow_backend\u001b[0m \u001b[1;32mimport\u001b[0m \u001b[1;33m*\u001b[0m\u001b[1;33m\u001b[0m\u001b[1;33m\u001b[0m\u001b[0m\n\u001b[0m\u001b[0;32m     91\u001b[0m \u001b[1;32melse\u001b[0m\u001b[1;33m:\u001b[0m\u001b[1;33m\u001b[0m\u001b[1;33m\u001b[0m\u001b[0m\n\u001b[0;32m     92\u001b[0m     \u001b[1;31m# Try and load external backend.\u001b[0m\u001b[1;33m\u001b[0m\u001b[1;33m\u001b[0m\u001b[1;33m\u001b[0m\u001b[0m\n",
      "\u001b[1;32mc:\\users\\tupha\\appdata\\local\\programs\\python\\python38-32\\lib\\site-packages\\keras\\backend\\tensorflow_backend.py\u001b[0m in \u001b[0;36m<module>\u001b[1;34m\u001b[0m\n\u001b[0;32m      3\u001b[0m \u001b[1;32mfrom\u001b[0m \u001b[0m__future__\u001b[0m \u001b[1;32mimport\u001b[0m \u001b[0mprint_function\u001b[0m\u001b[1;33m\u001b[0m\u001b[1;33m\u001b[0m\u001b[0m\n\u001b[0;32m      4\u001b[0m \u001b[1;33m\u001b[0m\u001b[0m\n\u001b[1;32m----> 5\u001b[1;33m \u001b[1;32mimport\u001b[0m \u001b[0mtensorflow\u001b[0m \u001b[1;32mas\u001b[0m \u001b[0mtf\u001b[0m\u001b[1;33m\u001b[0m\u001b[1;33m\u001b[0m\u001b[0m\n\u001b[0m\u001b[0;32m      6\u001b[0m \u001b[1;32mfrom\u001b[0m \u001b[0mtensorflow\u001b[0m\u001b[1;33m.\u001b[0m\u001b[0mpython\u001b[0m\u001b[1;33m.\u001b[0m\u001b[0meager\u001b[0m \u001b[1;32mimport\u001b[0m \u001b[0mcontext\u001b[0m\u001b[1;33m\u001b[0m\u001b[1;33m\u001b[0m\u001b[0m\n\u001b[0;32m      7\u001b[0m \u001b[1;32mfrom\u001b[0m \u001b[0mtensorflow\u001b[0m\u001b[1;33m.\u001b[0m\u001b[0mpython\u001b[0m\u001b[1;33m.\u001b[0m\u001b[0mframework\u001b[0m \u001b[1;32mimport\u001b[0m \u001b[0mdevice\u001b[0m \u001b[1;32mas\u001b[0m \u001b[0mtfdev\u001b[0m\u001b[1;33m\u001b[0m\u001b[1;33m\u001b[0m\u001b[0m\n",
      "\u001b[1;31mModuleNotFoundError\u001b[0m: No module named 'tensorflow'"
     ]
    }
   ],
   "source": [
    "import pandas as pd\n",
    "import numpy as np\n",
    "import matplotlib.pyplot as plt\n",
    "import plotly\n",
    "import plotly.express as px\n",
    "\n",
    "from sklearn.model_selection import train_test_split\n",
    "from sklearn.preprocessing import StandardScaler, LabelEncoder\n",
    "from sklearn.decomposition import PCA\n",
    "\n",
    "from sklearn.naive_bayes import GaussianNB\n",
    "from sklearn.cluster import KMeans\n",
    "from sklearn.metrics import accuracy_score, confusion_matrix\n",
    "\n",
    "from keras.models import Sequential\n",
    "from keras.layers import Dense, Dropout, Activation\n",
    "plt.style.use('ggplot')\n",
    "\n",
    "%matplotlib inline\n",
    "\n",
    "plotly.offline.init_notebook_mode()"
   ]
  },
  {
   "cell_type": "code",
   "execution_count": 47,
   "metadata": {},
   "outputs": [
    {
     "name": "stderr",
     "output_type": "stream",
     "text": [
      "ERROR: Could not find a version that satisfies the requirement tensorflow-gpu==1.15 (from versions: none)\n",
      "ERROR: No matching distribution found for tensorflow-gpu==1.15\n"
     ]
    }
   ],
   "source": [
    "from src.Cleaner import *"
   ]
  },
  {
   "cell_type": "code",
   "execution_count": 3,
   "metadata": {},
   "outputs": [],
   "source": [
    "df = pd.read_csv('data/Colorectal_GSE44076.csv')"
   ]
  },
  {
   "cell_type": "code",
   "execution_count": 4,
   "metadata": {},
   "outputs": [
    {
     "data": {
      "text/plain": [
       "type\n",
       "adenocarcinoma    97\n",
       "normal            97\n",
       "Name: type, dtype: int64"
      ]
     },
     "execution_count": 4,
     "metadata": {},
     "output_type": "execute_result"
    }
   ],
   "source": [
    "df.groupby('type')['type'].count()"
   ]
  },
  {
   "cell_type": "code",
   "execution_count": 5,
   "metadata": {},
   "outputs": [
    {
     "data": {
      "text/plain": [
       "['normal', 'adenocarcinoma']"
      ]
     },
     "execution_count": 5,
     "metadata": {},
     "output_type": "execute_result"
    }
   ],
   "source": [
    "target_labels = labels(df)\n",
    "target_labels"
   ]
  },
  {
   "cell_type": "code",
   "execution_count": 6,
   "metadata": {},
   "outputs": [
    {
     "data": {
      "text/html": [
       "<div>\n",
       "<style scoped>\n",
       "    .dataframe tbody tr th:only-of-type {\n",
       "        vertical-align: middle;\n",
       "    }\n",
       "\n",
       "    .dataframe tbody tr th {\n",
       "        vertical-align: top;\n",
       "    }\n",
       "\n",
       "    .dataframe thead th {\n",
       "        text-align: right;\n",
       "    }\n",
       "</style>\n",
       "<table border=\"1\" class=\"dataframe\">\n",
       "  <thead>\n",
       "    <tr style=\"text-align: right;\">\n",
       "      <th></th>\n",
       "      <th>target</th>\n",
       "      <th>11715100_at</th>\n",
       "      <th>11715101_s_at</th>\n",
       "      <th>11715102_x_at</th>\n",
       "      <th>11715103_x_at</th>\n",
       "      <th>11715104_s_at</th>\n",
       "      <th>11715105_at</th>\n",
       "      <th>11715106_x_at</th>\n",
       "      <th>11715107_s_at</th>\n",
       "      <th>11715108_x_at</th>\n",
       "      <th>...</th>\n",
       "      <th>AFFX-r2-TagO-3_at</th>\n",
       "      <th>AFFX-r2-TagO-5_at</th>\n",
       "      <th>AFFX-r2-TagQ-3_at</th>\n",
       "      <th>AFFX-r2-TagQ-5_at</th>\n",
       "      <th>AFFX-ThrX-3_at</th>\n",
       "      <th>AFFX-ThrX-5_at</th>\n",
       "      <th>AFFX-ThrX-M_at</th>\n",
       "      <th>AFFX-TrpnX-3_at</th>\n",
       "      <th>AFFX-TrpnX-5_at</th>\n",
       "      <th>AFFX-TrpnX-M_at</th>\n",
       "    </tr>\n",
       "  </thead>\n",
       "  <tbody>\n",
       "    <tr>\n",
       "      <th>0</th>\n",
       "      <td>1</td>\n",
       "      <td>4.033083</td>\n",
       "      <td>3.991328</td>\n",
       "      <td>3.522487</td>\n",
       "      <td>3.278373</td>\n",
       "      <td>7.201681</td>\n",
       "      <td>2.166355</td>\n",
       "      <td>2.841044</td>\n",
       "      <td>2.217360</td>\n",
       "      <td>2.066134</td>\n",
       "      <td>...</td>\n",
       "      <td>2.233052</td>\n",
       "      <td>2.321627</td>\n",
       "      <td>2.602364</td>\n",
       "      <td>2.272951</td>\n",
       "      <td>8.236181</td>\n",
       "      <td>4.766301</td>\n",
       "      <td>6.624126</td>\n",
       "      <td>2.191907</td>\n",
       "      <td>2.089431</td>\n",
       "      <td>2.196678</td>\n",
       "    </tr>\n",
       "    <tr>\n",
       "      <th>1</th>\n",
       "      <td>1</td>\n",
       "      <td>3.117273</td>\n",
       "      <td>4.047258</td>\n",
       "      <td>3.042704</td>\n",
       "      <td>3.284518</td>\n",
       "      <td>8.425413</td>\n",
       "      <td>2.139838</td>\n",
       "      <td>2.632561</td>\n",
       "      <td>2.375537</td>\n",
       "      <td>2.417156</td>\n",
       "      <td>...</td>\n",
       "      <td>2.033923</td>\n",
       "      <td>2.335442</td>\n",
       "      <td>2.061999</td>\n",
       "      <td>1.979024</td>\n",
       "      <td>7.079312</td>\n",
       "      <td>4.687041</td>\n",
       "      <td>5.775218</td>\n",
       "      <td>2.013578</td>\n",
       "      <td>2.189192</td>\n",
       "      <td>2.106554</td>\n",
       "    </tr>\n",
       "    <tr>\n",
       "      <th>2</th>\n",
       "      <td>1</td>\n",
       "      <td>3.513162</td>\n",
       "      <td>4.154993</td>\n",
       "      <td>3.067877</td>\n",
       "      <td>3.478020</td>\n",
       "      <td>7.337592</td>\n",
       "      <td>2.070858</td>\n",
       "      <td>2.632643</td>\n",
       "      <td>2.542989</td>\n",
       "      <td>2.371663</td>\n",
       "      <td>...</td>\n",
       "      <td>1.874741</td>\n",
       "      <td>2.522885</td>\n",
       "      <td>2.577079</td>\n",
       "      <td>2.017303</td>\n",
       "      <td>6.966157</td>\n",
       "      <td>3.498785</td>\n",
       "      <td>5.384117</td>\n",
       "      <td>2.124996</td>\n",
       "      <td>2.175054</td>\n",
       "      <td>2.168932</td>\n",
       "    </tr>\n",
       "    <tr>\n",
       "      <th>3</th>\n",
       "      <td>1</td>\n",
       "      <td>3.487588</td>\n",
       "      <td>4.505968</td>\n",
       "      <td>3.688899</td>\n",
       "      <td>3.642465</td>\n",
       "      <td>7.319168</td>\n",
       "      <td>2.191685</td>\n",
       "      <td>2.567842</td>\n",
       "      <td>2.551201</td>\n",
       "      <td>2.517034</td>\n",
       "      <td>...</td>\n",
       "      <td>1.795535</td>\n",
       "      <td>2.147798</td>\n",
       "      <td>2.439898</td>\n",
       "      <td>2.157677</td>\n",
       "      <td>8.899968</td>\n",
       "      <td>6.943802</td>\n",
       "      <td>7.908001</td>\n",
       "      <td>1.969787</td>\n",
       "      <td>2.125711</td>\n",
       "      <td>2.311073</td>\n",
       "    </tr>\n",
       "    <tr>\n",
       "      <th>4</th>\n",
       "      <td>1</td>\n",
       "      <td>3.096174</td>\n",
       "      <td>3.997803</td>\n",
       "      <td>3.404045</td>\n",
       "      <td>2.984088</td>\n",
       "      <td>7.652969</td>\n",
       "      <td>2.374705</td>\n",
       "      <td>2.178836</td>\n",
       "      <td>2.852997</td>\n",
       "      <td>2.407605</td>\n",
       "      <td>...</td>\n",
       "      <td>1.965137</td>\n",
       "      <td>2.655806</td>\n",
       "      <td>2.330900</td>\n",
       "      <td>2.230463</td>\n",
       "      <td>7.878767</td>\n",
       "      <td>5.718627</td>\n",
       "      <td>6.654383</td>\n",
       "      <td>2.015329</td>\n",
       "      <td>2.339691</td>\n",
       "      <td>2.347252</td>\n",
       "    </tr>\n",
       "  </tbody>\n",
       "</table>\n",
       "<p>5 rows × 49387 columns</p>\n",
       "</div>"
      ],
      "text/plain": [
       "   target  11715100_at  11715101_s_at  11715102_x_at  11715103_x_at  \\\n",
       "0       1     4.033083       3.991328       3.522487       3.278373   \n",
       "1       1     3.117273       4.047258       3.042704       3.284518   \n",
       "2       1     3.513162       4.154993       3.067877       3.478020   \n",
       "3       1     3.487588       4.505968       3.688899       3.642465   \n",
       "4       1     3.096174       3.997803       3.404045       2.984088   \n",
       "\n",
       "   11715104_s_at  11715105_at  11715106_x_at  11715107_s_at  11715108_x_at  \\\n",
       "0       7.201681     2.166355       2.841044       2.217360       2.066134   \n",
       "1       8.425413     2.139838       2.632561       2.375537       2.417156   \n",
       "2       7.337592     2.070858       2.632643       2.542989       2.371663   \n",
       "3       7.319168     2.191685       2.567842       2.551201       2.517034   \n",
       "4       7.652969     2.374705       2.178836       2.852997       2.407605   \n",
       "\n",
       "   ...  AFFX-r2-TagO-3_at  AFFX-r2-TagO-5_at  AFFX-r2-TagQ-3_at  \\\n",
       "0  ...           2.233052           2.321627           2.602364   \n",
       "1  ...           2.033923           2.335442           2.061999   \n",
       "2  ...           1.874741           2.522885           2.577079   \n",
       "3  ...           1.795535           2.147798           2.439898   \n",
       "4  ...           1.965137           2.655806           2.330900   \n",
       "\n",
       "   AFFX-r2-TagQ-5_at  AFFX-ThrX-3_at  AFFX-ThrX-5_at  AFFX-ThrX-M_at  \\\n",
       "0           2.272951        8.236181        4.766301        6.624126   \n",
       "1           1.979024        7.079312        4.687041        5.775218   \n",
       "2           2.017303        6.966157        3.498785        5.384117   \n",
       "3           2.157677        8.899968        6.943802        7.908001   \n",
       "4           2.230463        7.878767        5.718627        6.654383   \n",
       "\n",
       "   AFFX-TrpnX-3_at  AFFX-TrpnX-5_at  AFFX-TrpnX-M_at  \n",
       "0         2.191907         2.089431         2.196678  \n",
       "1         2.013578         2.189192         2.106554  \n",
       "2         2.124996         2.175054         2.168932  \n",
       "3         1.969787         2.125711         2.311073  \n",
       "4         2.015329         2.339691         2.347252  \n",
       "\n",
       "[5 rows x 49387 columns]"
      ]
     },
     "execution_count": 6,
     "metadata": {},
     "output_type": "execute_result"
    }
   ],
   "source": [
    "cleaned_df = data_cleaner(df)\n",
    "cleaned_df.head()"
   ]
  },
  {
   "cell_type": "code",
   "execution_count": 7,
   "metadata": {},
   "outputs": [],
   "source": [
    "X = cleaned_df.drop(columns='target')\n",
    "y = cleaned_df['target']"
   ]
  },
  {
   "cell_type": "code",
   "execution_count": 8,
   "metadata": {},
   "outputs": [],
   "source": [
    "X_train, X_test, y_train, y_test = train_test_split(X, y, test_size=.35)"
   ]
  },
  {
   "cell_type": "code",
   "execution_count": 9,
   "metadata": {},
   "outputs": [],
   "source": [
    "#Standardize the data\n",
    "scaler = StandardScaler()\n",
    "X_train_scaled = scaler.fit_transform(X_train)\n",
    "X_test_scaled = scaler.transform(X_test)"
   ]
  },
  {
   "cell_type": "markdown",
   "metadata": {},
   "source": [
    "## PCA"
   ]
  },
  {
   "cell_type": "code",
   "execution_count": 10,
   "metadata": {},
   "outputs": [
    {
     "name": "stdout",
     "output_type": "stream",
     "text": [
      "32\n"
     ]
    },
    {
     "data": {
      "image/png": "[encoded data removed]",
      "text/plain": [
       "<Figure size 1296x864 with 2 Axes>"
      ]
     },
     "metadata": {
      "needs_background": "light"
     },
     "output_type": "display_data"
    }
   ],
   "source": [
    "pcd = PCA()\n",
    "pcd.fit_transform(X_train)\n",
    "total_variance = sum(pcd.explained_variance_)\n",
    "curr_variance = 0\n",
    "k = 0\n",
    "while curr_variance/total_variance < .80:\n",
    "    curr_variance += pcd.explained_variance_[k]\n",
    "    k += 1\n",
    "    \n",
    "\n",
    "features = range(k)\n",
    "pcd = PCA(n_components=k)\n",
    "X_train_pca = pcd.fit_transform(X_test)\n",
    "X_test_pca = pcd.transform(X_test)\n",
    "\n",
    "variance = pcd.explained_variance_ratio_\n",
    "cumsum_variance = pcd.explained_variance_ratio_.cumsum()\n",
    "\n",
    "fig, axs = plt.subplots(2,1, figsize=(18,12))\n",
    "ax = axs.flatten()\n",
    "ax[0].bar(features, variance)\n",
    "ax[0].set_ylabel('Variance %')\n",
    "ax[0].set_xlabel('Number of Components')\n",
    "ax[0].set_title('Explained Variance By Components')\n",
    "\n",
    "\n",
    "ax[1].plot(features, cumsum_variance, marker='o', linestyle='--')\n",
    "ax[1].set_ylabel('Cumulative Explained Variance %')\n",
    "ax[1].set_xlabel('Number of Components')\n",
    "ax[1].set_title('Explained Variance By Components')\n",
    "print(k)"
   ]
  },
  {
   "cell_type": "code",
   "execution_count": 38,
   "metadata": {
    "collapsed": true,
    "jupyter": {
     "outputs_hidden": true
    }
   },
   "outputs": [
    {
     "data": {
      "application/vnd.plotly.v1+json": {
       "config": {
        "linkText": "Export to plot.ly",
        "plotlyServerURL": "https://plot.ly",
        "showLink": false
       },
       "data": [
        {
         "hovertemplate": "x=%{x}<br>y=%{y}<br>z=%{z}<br>color=%{marker.color}<extra></extra>",
         "legendgroup": "",
         "marker": {
          "color": [
           0,
           1,
           0,
           1,
           0,
           0,
           0,
           0,
           0,
           1,
           1,
           0,
           0,
           1,
           1,
           0,
           1,
           0,
           1,
           0,
           1,
           0,
           1,
           1,
           0,
           1,
           0,
           1,
           1,
           0,
           1,
           0,
           1,
           0,
           1,
           0,
           1,
           0,
           0,
           1,
           0,
           0,
           1,
           1,
           0,
           0,
           0,
           1,
           0,
           0,
           1,
           0,
           1,
           1,
           1,
           1,
           1,
           0,
           1,
           0,
           0,
           1,
           0,
           0,
           0,
           1,
           0,
           0,
           1,
           1,
           0,
           1,
           1,
           0,
           0,
           0,
           0,
           1,
           0,
           0,
           1,
           0,
           0,
           1,
           1,
           1,
           1,
           0,
           1,
           0,
           1,
           1,
           1,
           1,
           1,
           0,
           0,
           1,
           1,
           0,
           0,
           1,
           0,
           0,
           0,
           1,
           0,
           0,
           1,
           0,
           0,
           1,
           1,
           0,
           1,
           0,
           1,
           1,
           0,
           1,
           0,
           1,
           1,
           1,
           1,
           1
          ],
          "coloraxis": "coloraxis",
          "symbol": "circle"
         },
         "mode": "markers",
         "name": "",
         "scene": "scene",
         "showlegend": false,
         "type": "scatter3d",
         "x": [
          43.88328157638265,
          -66.1585324332674,
          46.29635534841691,
          -62.288285445677396,
          57.82566690666336,
          71.81270827659714,
          76.10846007921747,
          77.08749122842579,
          71.87901430056199,
          -61.52671554815426,
          -71.11410351694896,
          95.76603925584348,
          81.84260532091727,
          -59.0646801700703,
          -45.36909983953654,
          80.3854867731804,
          -79.0339962866595,
          93.55120178884515,
          -56.99298989536606,
          78.04519204547901,
          -61.08751913303466,
          102.9926505391071,
          -58.410106539954754,
          -76.61947001346928,
          29.49306777916982,
          -77.71453470522839,
          3.309453014071269,
          -68.02505685202338,
          -78.38197544698954,
          98.06188035989841,
          -71.85778002414278,
          91.17743620059146,
          -79.63492118900679,
          78.38777219410622,
          -85.52353522109101,
          22.463643075636977,
          -84.51506008153947,
          36.07881718132239,
          -3.9814500572594973,
          -53.72974734460601,
          84.53910157980238,
          72.78951749905661,
          -60.03396041486318,
          -77.56895136386433,
          87.78879429337735,
          86.03962204053302,
          30.88944306295139,
          -64.6328450448534,
          113.89324384799279,
          76.55185827054218,
          -61.97656693662278,
          86.38583619558567,
          -73.8429126634061,
          -48.00362980737649,
          -80.12857196466445,
          -90.8367455831993,
          -91.82156184029529,
          87.16476410525841,
          -69.31847056069802,
          65.00783919986384,
          79.09228132993105,
          -69.90470358335588,
          76.05511579041898,
          79.31940509456889,
          59.817627360091564,
          -87.08355455944347,
          63.64794950142105,
          90.66081194597004,
          -65.42306742071369,
          -86.67961799954595,
          87.5977945052946,
          -74.11185290983677,
          -68.64587257881357,
          90.96062654055581,
          78.56700606019386,
          103.82203379647308,
          96.004680689814,
          -49.55318894286575,
          82.68968220934244,
          93.81708360216305,
          -59.57223083881842,
          73.7303361019723,
          56.009729771275296,
          -71.93848708395153,
          -39.03532106979696,
          -66.26102159888589,
          -84.37340312904584,
          56.407185480021795,
          -77.93654890231466,
          81.79718486888902,
          -45.584252607485844,
          -56.14377012798246,
          -75.27092365123451,
          -55.07745286328035,
          -93.29221575281105,
          71.62811398306697,
          75.56315823117654,
          -63.366744969477345,
          -85.23285890829156,
          80.39998743711035,
          11.720027966517605,
          -65.71873962016802,
          71.26650465349562,
          72.9976317715455,
          105.49601607802933,
          -76.90383440018316,
          58.93050638145187,
          83.06558032163801,
          -65.87921852237477,
          53.67282769799023,
          37.11891736129076,
          -62.17287027349443,
          -91.24502944690697,
          95.80797992586797,
          -73.40362563448508,
          69.78649750472349,
          -90.64702824823136,
          -71.08717042426012,
          36.325842187130625,
          -70.87971868125629,
          48.2821566180607,
          -80.05482469128395,
          -89.50202873329629,
          -86.08275641822708,
          -76.32264999825259,
          -55.976165592649295
         ],
         "y": [
          47.290229550429515,
          -28.215175868088245,
          -15.964510537967788,
          -30.60813631737081,
          22.131067332484864,
          -0.8038286918135864,
          32.61671700376258,
          44.71073012986281,
          -46.8791259815855,
          -23.563453002749768,
          -40.26699061700334,
          1.9814540691711888,
          -27.422758308112787,
          -14.560128349467236,
          -9.988356524111703,
          -18.42367556520351,
          154.15291580790586,
          -28.57912686606672,
          -40.865734809770714,
          -17.890354373478207,
          -54.003676872855706,
          -24.765732332255762,
          -29.17891916894122,
          -33.53373272292741,
          -55.00031716540491,
          -21.362285145993862,
          -8.44371645908715,
          -28.61646972322568,
          1.0585838198568676,
          -3.623156980954692,
          -20.456116266913448,
          -8.396151072706619,
          -27.23178669268387,
          15.865204953414421,
          32.911080138832396,
          79.39480270101953,
          -41.154479833645794,
          -30.214274381694796,
          162.79076658623526,
          -15.437819168495906,
          23.837769073259828,
          -10.31830966276172,
          -59.83453794147446,
          -51.30826813779669,
          -46.017900952900646,
          10.722661887975887,
          22.405948832083222,
          157.3120084129565,
          -11.34585722654034,
          11.266510581562066,
          -44.58093655722425,
          -15.621681166687424,
          13.581821933255396,
          -14.938924363532893,
          51.20992731582245,
          -34.20803724029131,
          107.74791299371478,
          -22.804760634315464,
          -49.88207318943468,
          47.46339054288644,
          -58.94782257148468,
          -8.238383659701924,
          -1.6128314216389406,
          21.18642860400624,
          -27.57450563543193,
          66.71696450075235,
          -33.777760532076,
          7.446233623559303,
          -8.799324322945244,
          16.607136961255968,
          -7.455299206192625,
          -34.33702875953637,
          -48.434846986154945,
          29.169757872687107,
          -30.13916614445246,
          3.6302744725370775,
          -29.56516166495087,
          -19.867070126287032,
          29.065332063077477,
          13.838587692002944,
          36.86483119287838,
          8.325777902832181,
          25.03636701066891,
          -3.290901386587921,
          215.0807608241942,
          -41.62914325046177,
          -7.515605539584228,
          83.13875435081069,
          98.03806224857863,
          -26.050492565735322,
          -30.116879865030942,
          -37.39603257626208,
          -26.69057427599392,
          -67.17364615495492,
          22.53868089205289,
          37.28521266207196,
          -16.344579386963712,
          -26.970130441059517,
          25.15018103895656,
          -38.934139484197594,
          17.445164454401386,
          -28.412641029828496,
          1.8822353203687352,
          -23.859696971663404,
          -12.550802186954392,
          -18.667480414620304,
          -33.8551117923492,
          -8.636784898833314,
          -14.186642596522317,
          7.682632146198222,
          0.9561313362836785,
          -31.111872889456073,
          -47.24194038209344,
          -17.01243401634816,
          -21.336869858558195,
          25.67741179824076,
          -92.677923403518,
          -24.588653788447647,
          -4.881785962651266,
          91.44062775660753,
          99.33957426791906,
          42.75414412398939,
          50.377803555023476,
          -60.31299569690344,
          -18.544390022981368,
          77.9240564045038
         ],
         "z": [
          8.21779645851346,
          28.30208703481694,
          7.790360960944113,
          13.157812092097517,
          35.13668665382092,
          18.673708823776444,
          28.690549046634498,
          11.051615249765556,
          -11.620944162367405,
          1.1463085399722621,
          -8.823375787449649,
          1.9790565806412037,
          -7.013082896667533,
          16.672546809365087,
          46.59099677426172,
          -6.489998937211784,
          -53.47925288927195,
          -28.337752064607752,
          23.08912601636441,
          -37.36957552815457,
          -6.681007370863801,
          -30.729164705366795,
          19.414145856672103,
          8.77385106856907,
          -8.962635731660978,
          15.143593430240761,
          20.38166058682888,
          -14.628001159293975,
          -14.676639302231244,
          -0.6204385882538054,
          -22.728980757884408,
          14.910884098699874,
          -8.821064338914512,
          8.787186351291293,
          -13.689073299024066,
          5.043065933068656,
          15.037774584014903,
          -17.18381634288761,
          99.84937620541014,
          23.984641642564643,
          36.818051413003346,
          -34.93476761493904,
          -7.401650004482188,
          -17.581867505781204,
          -51.592911125883155,
          -22.526467324858686,
          4.960502913731998,
          -50.34219488390945,
          -48.23950994447708,
          16.618241086155304,
          -2.4403499383655127,
          14.092630502835046,
          19.338617630283274,
          5.595491932790487,
          -4.017406714670536,
          -12.760739021568394,
          -41.36686411508994,
          -0.16635046379580315,
          31.95890791943646,
          15.93439117743659,
          -46.03548278379611,
          5.433802658447412,
          47.47276036912799,
          7.515055120323278,
          -6.893331520505206,
          -22.376758620858826,
          -2.6778476754738354,
          1.9132479538969736,
          4.517237413584123,
          -12.773868290691437,
          -6.259867675810947,
          -2.3149192736453412,
          -3.1066533982152835,
          -11.779198319510982,
          7.903126584052116,
          -8.105409356746312,
          -52.55811685083874,
          36.78242616063725,
          -31.48561069808812,
          30.228376693381065,
          -0.062084983968876295,
          23.653083150689486,
          35.47663700279969,
          15.705756664798768,
          -67.59147399125503,
          23.869517751915414,
          24.030616467942885,
          19.58713407751555,
          -31.053975261064693,
          -28.875286611726832,
          -4.820294682930712,
          3.6134656419593254,
          -14.303796937300362,
          -0.5608940859405911,
          -9.488574979417537,
          36.46783057873063,
          -10.601386008606468,
          14.559830418228671,
          -5.353818263958908,
          -41.32426849093203,
          55.452375324949465,
          15.3625549526711,
          -5.957129970100749,
          1.1869094764562567,
          -7.886610645072224,
          -7.979152944766623,
          4.716998092669284,
          -2.74964519911799,
          5.532510261680367,
          27.682906691601552,
          21.61719533049011,
          11.713672897281983,
          -7.030183324047021,
          -47.46081079191528,
          3.368740757693243,
          14.230043896525912,
          -23.786986069000122,
          0.6106825866700741,
          -0.1631788800800182,
          -11.241850726166177,
          63.47668925134569,
          3.2779733064040895,
          -36.72929859818655,
          -17.345878176951896,
          4.287458350351272,
          -14.428754652207134
         ]
        }
       ],
       "layout": {
        "coloraxis": {
         "colorbar": {
          "title": {
           "text": "color"
          }
         },
         "colorscale": [
          [
           0,
           "#0d0887"
          ],
          [
           0.1111111111111111,
           "#46039f"
          ],
          [
           0.2222222222222222,
           "#7201a8"
          ],
          [
           0.3333333333333333,
           "#9c179e"
          ],
          [
           0.4444444444444444,
           "#bd3786"
          ],
          [
           0.5555555555555556,
           "#d8576b"
          ],
          [
           0.6666666666666666,
           "#ed7953"
          ],
          [
           0.7777777777777778,
           "#fb9f3a"
          ],
          [
           0.8888888888888888,
           "#fdca26"
          ],
          [
           1,
           "#f0f921"
          ]
         ]
        },
        "legend": {
         "tracegroupgap": 0
        },
        "margin": {
         "t": 60
        },
        "scene": {
         "domain": {
          "x": [
           0,
           1
          ],
          "y": [
           0,
           1
          ]
         },
         "xaxis": {
          "title": {
           "text": "x"
          }
         },
         "yaxis": {
          "title": {
           "text": "y"
          }
         },
         "zaxis": {
          "title": {
           "text": "z"
          }
         }
        },
        "template": {
         "data": {
          "bar": [
           {
            "error_x": {
             "color": "#2a3f5f"
            },
            "error_y": {
             "color": "#2a3f5f"
            },
            "marker": {
             "line": {
              "color": "#E5ECF6",
              "width": 0.5
             }
            },
            "type": "bar"
           }
          ],
          "barpolar": [
           {
            "marker": {
             "line": {
              "color": "#E5ECF6",
              "width": 0.5
             }
            },
            "type": "barpolar"
           }
          ],
          "carpet": [
           {
            "aaxis": {
             "endlinecolor": "#2a3f5f",
             "gridcolor": "white",
             "linecolor": "white",
             "minorgridcolor": "white",
             "startlinecolor": "#2a3f5f"
            },
            "baxis": {
             "endlinecolor": "#2a3f5f",
             "gridcolor": "white",
             "linecolor": "white",
             "minorgridcolor": "white",
             "startlinecolor": "#2a3f5f"
            },
            "type": "carpet"
           }
          ],
          "choropleth": [
           {
            "colorbar": {
             "outlinewidth": 0,
             "ticks": ""
            },
            "type": "choropleth"
           }
          ],
          "contour": [
           {
            "colorbar": {
             "outlinewidth": 0,
             "ticks": ""
            },
            "colorscale": [
             [
              0,
              "#0d0887"
             ],
             [
              0.1111111111111111,
              "#46039f"
             ],
             [
              0.2222222222222222,
              "#7201a8"
             ],
             [
              0.3333333333333333,
              "#9c179e"
             ],
             [
              0.4444444444444444,
              "#bd3786"
             ],
             [
              0.5555555555555556,
              "#d8576b"
             ],
             [
              0.6666666666666666,
              "#ed7953"
             ],
             [
              0.7777777777777778,
              "#fb9f3a"
             ],
             [
              0.8888888888888888,
              "#fdca26"
             ],
             [
              1,
              "#f0f921"
             ]
            ],
            "type": "contour"
           }
          ],
          "contourcarpet": [
           {
            "colorbar": {
             "outlinewidth": 0,
             "ticks": ""
            },
            "type": "contourcarpet"
           }
          ],
          "heatmap": [
           {
            "colorbar": {
             "outlinewidth": 0,
             "ticks": ""
            },
            "colorscale": [
             [
              0,
              "#0d0887"
             ],
             [
              0.1111111111111111,
              "#46039f"
             ],
             [
              0.2222222222222222,
              "#7201a8"
             ],
             [
              0.3333333333333333,
              "#9c179e"
             ],
             [
              0.4444444444444444,
              "#bd3786"
             ],
             [
              0.5555555555555556,
              "#d8576b"
             ],
             [
              0.6666666666666666,
              "#ed7953"
             ],
             [
              0.7777777777777778,
              "#fb9f3a"
             ],
             [
              0.8888888888888888,
              "#fdca26"
             ],
             [
              1,
              "#f0f921"
             ]
            ],
            "type": "heatmap"
           }
          ],
          "heatmapgl": [
           {
            "colorbar": {
             "outlinewidth": 0,
             "ticks": ""
            },
            "colorscale": [
             [
              0,
              "#0d0887"
             ],
             [
              0.1111111111111111,
              "#46039f"
             ],
             [
              0.2222222222222222,
              "#7201a8"
             ],
             [
              0.3333333333333333,
              "#9c179e"
             ],
             [
              0.4444444444444444,
              "#bd3786"
             ],
             [
              0.5555555555555556,
              "#d8576b"
             ],
             [
              0.6666666666666666,
              "#ed7953"
             ],
             [
              0.7777777777777778,
              "#fb9f3a"
             ],
             [
              0.8888888888888888,
              "#fdca26"
             ],
             [
              1,
              "#f0f921"
             ]
            ],
            "type": "heatmapgl"
           }
          ],
          "histogram": [
           {
            "marker": {
             "colorbar": {
              "outlinewidth": 0,
              "ticks": ""
             }
            },
            "type": "histogram"
           }
          ],
          "histogram2d": [
           {
            "colorbar": {
             "outlinewidth": 0,
             "ticks": ""
            },
            "colorscale": [
             [
              0,
              "#0d0887"
             ],
             [
              0.1111111111111111,
              "#46039f"
             ],
             [
              0.2222222222222222,
              "#7201a8"
             ],
             [
              0.3333333333333333,
              "#9c179e"
             ],
             [
              0.4444444444444444,
              "#bd3786"
             ],
             [
              0.5555555555555556,
              "#d8576b"
             ],
             [
              0.6666666666666666,
              "#ed7953"
             ],
             [
              0.7777777777777778,
              "#fb9f3a"
             ],
             [
              0.8888888888888888,
              "#fdca26"
             ],
             [
              1,
              "#f0f921"
             ]
            ],
            "type": "histogram2d"
           }
          ],
          "histogram2dcontour": [
           {
            "colorbar": {
             "outlinewidth": 0,
             "ticks": ""
            },
            "colorscale": [
             [
              0,
              "#0d0887"
             ],
             [
              0.1111111111111111,
              "#46039f"
             ],
             [
              0.2222222222222222,
              "#7201a8"
             ],
             [
              0.3333333333333333,
              "#9c179e"
             ],
             [
              0.4444444444444444,
              "#bd3786"
             ],
             [
              0.5555555555555556,
              "#d8576b"
             ],
             [
              0.6666666666666666,
              "#ed7953"
             ],
             [
              0.7777777777777778,
              "#fb9f3a"
             ],
             [
              0.8888888888888888,
              "#fdca26"
             ],
             [
              1,
              "#f0f921"
             ]
            ],
            "type": "histogram2dcontour"
           }
          ],
          "mesh3d": [
           {
            "colorbar": {
             "outlinewidth": 0,
             "ticks": ""
            },
            "type": "mesh3d"
           }
          ],
          "parcoords": [
           {
            "line": {
             "colorbar": {
              "outlinewidth": 0,
              "ticks": ""
             }
            },
            "type": "parcoords"
           }
          ],
          "pie": [
           {
            "automargin": true,
            "type": "pie"
           }
          ],
          "scatter": [
           {
            "marker": {
             "colorbar": {
              "outlinewidth": 0,
              "ticks": ""
             }
            },
            "type": "scatter"
           }
          ],
          "scatter3d": [
           {
            "line": {
             "colorbar": {
              "outlinewidth": 0,
              "ticks": ""
             }
            },
            "marker": {
             "colorbar": {
              "outlinewidth": 0,
              "ticks": ""
             }
            },
            "type": "scatter3d"
           }
          ],
          "scattercarpet": [
           {
            "marker": {
             "colorbar": {
              "outlinewidth": 0,
              "ticks": ""
             }
            },
            "type": "scattercarpet"
           }
          ],
          "scattergeo": [
           {
            "marker": {
             "colorbar": {
              "outlinewidth": 0,
              "ticks": ""
             }
            },
            "type": "scattergeo"
           }
          ],
          "scattergl": [
           {
            "marker": {
             "colorbar": {
              "outlinewidth": 0,
              "ticks": ""
             }
            },
            "type": "scattergl"
           }
          ],
          "scattermapbox": [
           {
            "marker": {
             "colorbar": {
              "outlinewidth": 0,
              "ticks": ""
             }
            },
            "type": "scattermapbox"
           }
          ],
          "scatterpolar": [
           {
            "marker": {
             "colorbar": {
              "outlinewidth": 0,
              "ticks": ""
             }
            },
            "type": "scatterpolar"
           }
          ],
          "scatterpolargl": [
           {
            "marker": {
             "colorbar": {
              "outlinewidth": 0,
              "ticks": ""
             }
            },
            "type": "scatterpolargl"
           }
          ],
          "scatterternary": [
           {
            "marker": {
             "colorbar": {
              "outlinewidth": 0,
              "ticks": ""
             }
            },
            "type": "scatterternary"
           }
          ],
          "surface": [
           {
            "colorbar": {
             "outlinewidth": 0,
             "ticks": ""
            },
            "colorscale": [
             [
              0,
              "#0d0887"
             ],
             [
              0.1111111111111111,
              "#46039f"
             ],
             [
              0.2222222222222222,
              "#7201a8"
             ],
             [
              0.3333333333333333,
              "#9c179e"
             ],
             [
              0.4444444444444444,
              "#bd3786"
             ],
             [
              0.5555555555555556,
              "#d8576b"
             ],
             [
              0.6666666666666666,
              "#ed7953"
             ],
             [
              0.7777777777777778,
              "#fb9f3a"
             ],
             [
              0.8888888888888888,
              "#fdca26"
             ],
             [
              1,
              "#f0f921"
             ]
            ],
            "type": "surface"
           }
          ],
          "table": [
           {
            "cells": {
             "fill": {
              "color": "#EBF0F8"
             },
             "line": {
              "color": "white"
             }
            },
            "header": {
             "fill": {
              "color": "#C8D4E3"
             },
             "line": {
              "color": "white"
             }
            },
            "type": "table"
           }
          ]
         },
         "layout": {
          "annotationdefaults": {
           "arrowcolor": "#2a3f5f",
           "arrowhead": 0,
           "arrowwidth": 1
          },
          "coloraxis": {
           "colorbar": {
            "outlinewidth": 0,
            "ticks": ""
           }
          },
          "colorscale": {
           "diverging": [
            [
             0,
             "#8e0152"
            ],
            [
             0.1,
             "#c51b7d"
            ],
            [
             0.2,
             "#de77ae"
            ],
            [
             0.3,
             "#f1b6da"
            ],
            [
             0.4,
             "#fde0ef"
            ],
            [
             0.5,
             "#f7f7f7"
            ],
            [
             0.6,
             "#e6f5d0"
            ],
            [
             0.7,
             "#b8e186"
            ],
            [
             0.8,
             "#7fbc41"
            ],
            [
             0.9,
             "#4d9221"
            ],
            [
             1,
             "#276419"
            ]
           ],
           "sequential": [
            [
             0,
             "#0d0887"
            ],
            [
             0.1111111111111111,
             "#46039f"
            ],
            [
             0.2222222222222222,
             "#7201a8"
            ],
            [
             0.3333333333333333,
             "#9c179e"
            ],
            [
             0.4444444444444444,
             "#bd3786"
            ],
            [
             0.5555555555555556,
             "#d8576b"
            ],
            [
             0.6666666666666666,
             "#ed7953"
            ],
            [
             0.7777777777777778,
             "#fb9f3a"
            ],
            [
             0.8888888888888888,
             "#fdca26"
            ],
            [
             1,
             "#f0f921"
            ]
           ],
           "sequentialminus": [
            [
             0,
             "#0d0887"
            ],
            [
             0.1111111111111111,
             "#46039f"
            ],
            [
             0.2222222222222222,
             "#7201a8"
            ],
            [
             0.3333333333333333,
             "#9c179e"
            ],
            [
             0.4444444444444444,
             "#bd3786"
            ],
            [
             0.5555555555555556,
             "#d8576b"
            ],
            [
             0.6666666666666666,
             "#ed7953"
            ],
            [
             0.7777777777777778,
             "#fb9f3a"
            ],
            [
             0.8888888888888888,
             "#fdca26"
            ],
            [
             1,
             "#f0f921"
            ]
           ]
          },
          "colorway": [
           "#636efa",
           "#EF553B",
           "#00cc96",
           "#ab63fa",
           "#FFA15A",
           "#19d3f3",
           "#FF6692",
           "#B6E880",
           "#FF97FF",
           "#FECB52"
          ],
          "font": {
           "color": "#2a3f5f"
          },
          "geo": {
           "bgcolor": "white",
           "lakecolor": "white",
           "landcolor": "#E5ECF6",
           "showlakes": true,
           "showland": true,
           "subunitcolor": "white"
          },
          "hoverlabel": {
           "align": "left"
          },
          "hovermode": "closest",
          "mapbox": {
           "style": "light"
          },
          "paper_bgcolor": "white",
          "plot_bgcolor": "#E5ECF6",
          "polar": {
           "angularaxis": {
            "gridcolor": "white",
            "linecolor": "white",
            "ticks": ""
           },
           "bgcolor": "#E5ECF6",
           "radialaxis": {
            "gridcolor": "white",
            "linecolor": "white",
            "ticks": ""
           }
          },
          "scene": {
           "xaxis": {
            "backgroundcolor": "#E5ECF6",
            "gridcolor": "white",
            "gridwidth": 2,
            "linecolor": "white",
            "showbackground": true,
            "ticks": "",
            "zerolinecolor": "white"
           },
           "yaxis": {
            "backgroundcolor": "#E5ECF6",
            "gridcolor": "white",
            "gridwidth": 2,
            "linecolor": "white",
            "showbackground": true,
            "ticks": "",
            "zerolinecolor": "white"
           },
           "zaxis": {
            "backgroundcolor": "#E5ECF6",
            "gridcolor": "white",
            "gridwidth": 2,
            "linecolor": "white",
            "showbackground": true,
            "ticks": "",
            "zerolinecolor": "white"
           }
          },
          "shapedefaults": {
           "line": {
            "color": "#2a3f5f"
           }
          },
          "ternary": {
           "aaxis": {
            "gridcolor": "white",
            "linecolor": "white",
            "ticks": ""
           },
           "baxis": {
            "gridcolor": "white",
            "linecolor": "white",
            "ticks": ""
           },
           "bgcolor": "#E5ECF6",
           "caxis": {
            "gridcolor": "white",
            "linecolor": "white",
            "ticks": ""
           }
          },
          "title": {
           "x": 0.05
          },
          "xaxis": {
           "automargin": true,
           "gridcolor": "white",
           "linecolor": "white",
           "ticks": "",
           "title": {
            "standoff": 15
           },
           "zerolinecolor": "white",
           "zerolinewidth": 2
          },
          "yaxis": {
           "automargin": true,
           "gridcolor": "white",
           "linecolor": "white",
           "ticks": "",
           "title": {
            "standoff": 15
           },
           "zerolinecolor": "white",
           "zerolinewidth": 2
          }
         }
        }
       }
      },
      "text/html": [
       "<div>\n",
       "        \n",
       "        \n",
       "            <div id=\"dd187854-329a-49c8-a597-dfeaeeb05239\" class=\"plotly-graph-div\" style=\"height:525px; width:100%;\"></div>\n",
       "            <script type=\"text/javascript\">\n",
       "                require([\"plotly\"], function(Plotly) {\n",
       "                    window.PLOTLYENV=window.PLOTLYENV || {};\n",
       "                    \n",
       "                if (document.getElementById(\"dd187854-329a-49c8-a597-dfeaeeb05239\")) {\n",
       "                    Plotly.newPlot(\n",
       "                        'dd187854-329a-49c8-a597-dfeaeeb05239',\n",
       "                        [{\"hovertemplate\": \"x=%{x}<br>y=%{y}<br>z=%{z}<br>color=%{marker.color}<extra></extra>\", \"legendgroup\": \"\", \"marker\": {\"color\": [0, 1, 0, 1, 0, 0, 0, 0, 0, 1, 1, 0, 0, 1, 1, 0, 1, 0, 1, 0, 1, 0, 1, 1, 0, 1, 0, 1, 1, 0, 1, 0, 1, 0, 1, 0, 1, 0, 0, 1, 0, 0, 1, 1, 0, 0, 0, 1, 0, 0, 1, 0, 1, 1, 1, 1, 1, 0, 1, 0, 0, 1, 0, 0, 0, 1, 0, 0, 1, 1, 0, 1, 1, 0, 0, 0, 0, 1, 0, 0, 1, 0, 0, 1, 1, 1, 1, 0, 1, 0, 1, 1, 1, 1, 1, 0, 0, 1, 1, 0, 0, 1, 0, 0, 0, 1, 0, 0, 1, 0, 0, 1, 1, 0, 1, 0, 1, 1, 0, 1, 0, 1, 1, 1, 1, 1], \"coloraxis\": \"coloraxis\", \"symbol\": \"circle\"}, \"mode\": \"markers\", \"name\": \"\", \"scene\": \"scene\", \"showlegend\": false, \"type\": \"scatter3d\", \"x\": [43.88328157638265, -66.1585324332674, 46.29635534841691, -62.288285445677396, 57.82566690666336, 71.81270827659714, 76.10846007921747, 77.08749122842579, 71.87901430056199, -61.52671554815426, -71.11410351694896, 95.76603925584348, 81.84260532091727, -59.0646801700703, -45.36909983953654, 80.3854867731804, -79.0339962866595, 93.55120178884515, -56.99298989536606, 78.04519204547901, -61.08751913303466, 102.9926505391071, -58.410106539954754, -76.61947001346928, 29.49306777916982, -77.71453470522839, 3.309453014071269, -68.02505685202338, -78.38197544698954, 98.06188035989841, -71.85778002414278, 91.17743620059146, -79.63492118900679, 78.38777219410622, -85.52353522109101, 22.463643075636977, -84.51506008153947, 36.07881718132239, -3.9814500572594973, -53.72974734460601, 84.53910157980238, 72.78951749905661, -60.03396041486318, -77.56895136386433, 87.78879429337735, 86.03962204053302, 30.88944306295139, -64.6328450448534, 113.89324384799279, 76.55185827054218, -61.97656693662278, 86.38583619558567, -73.8429126634061, -48.00362980737649, -80.12857196466445, -90.8367455831993, -91.82156184029529, 87.16476410525841, -69.31847056069802, 65.00783919986384, 79.09228132993105, -69.90470358335588, 76.05511579041898, 79.31940509456889, 59.817627360091564, -87.08355455944347, 63.64794950142105, 90.66081194597004, -65.42306742071369, -86.67961799954595, 87.5977945052946, -74.11185290983677, -68.64587257881357, 90.96062654055581, 78.56700606019386, 103.82203379647308, 96.004680689814, -49.55318894286575, 82.68968220934244, 93.81708360216305, -59.57223083881842, 73.7303361019723, 56.009729771275296, -71.93848708395153, -39.03532106979696, -66.26102159888589, -84.37340312904584, 56.407185480021795, -77.93654890231466, 81.79718486888902, -45.584252607485844, -56.14377012798246, -75.27092365123451, -55.07745286328035, -93.29221575281105, 71.62811398306697, 75.56315823117654, -63.366744969477345, -85.23285890829156, 80.39998743711035, 11.720027966517605, -65.71873962016802, 71.26650465349562, 72.9976317715455, 105.49601607802933, -76.90383440018316, 58.93050638145187, 83.06558032163801, -65.87921852237477, 53.67282769799023, 37.11891736129076, -62.17287027349443, -91.24502944690697, 95.80797992586797, -73.40362563448508, 69.78649750472349, -90.64702824823136, -71.08717042426012, 36.325842187130625, -70.87971868125629, 48.2821566180607, -80.05482469128395, -89.50202873329629, -86.08275641822708, -76.32264999825259, -55.976165592649295], \"y\": [47.290229550429515, -28.215175868088245, -15.964510537967788, -30.60813631737081, 22.131067332484864, -0.8038286918135864, 32.61671700376258, 44.71073012986281, -46.8791259815855, -23.563453002749768, -40.26699061700334, 1.9814540691711888, -27.422758308112787, -14.560128349467236, -9.988356524111703, -18.42367556520351, 154.15291580790586, -28.57912686606672, -40.865734809770714, -17.890354373478207, -54.003676872855706, -24.765732332255762, -29.17891916894122, -33.53373272292741, -55.00031716540491, -21.362285145993862, -8.44371645908715, -28.61646972322568, 1.0585838198568676, -3.623156980954692, -20.456116266913448, -8.396151072706619, -27.23178669268387, 15.865204953414421, 32.911080138832396, 79.39480270101953, -41.154479833645794, -30.214274381694796, 162.79076658623526, -15.437819168495906, 23.837769073259828, -10.31830966276172, -59.83453794147446, -51.30826813779669, -46.017900952900646, 10.722661887975887, 22.405948832083222, 157.3120084129565, -11.34585722654034, 11.266510581562066, -44.58093655722425, -15.621681166687424, 13.581821933255396, -14.938924363532893, 51.20992731582245, -34.20803724029131, 107.74791299371478, -22.804760634315464, -49.88207318943468, 47.46339054288644, -58.94782257148468, -8.238383659701924, -1.6128314216389406, 21.18642860400624, -27.57450563543193, 66.71696450075235, -33.777760532076, 7.446233623559303, -8.799324322945244, 16.607136961255968, -7.455299206192625, -34.33702875953637, -48.434846986154945, 29.169757872687107, -30.13916614445246, 3.6302744725370775, -29.56516166495087, -19.867070126287032, 29.065332063077477, 13.838587692002944, 36.86483119287838, 8.325777902832181, 25.03636701066891, -3.290901386587921, 215.0807608241942, -41.62914325046177, -7.515605539584228, 83.13875435081069, 98.03806224857863, -26.050492565735322, -30.116879865030942, -37.39603257626208, -26.69057427599392, -67.17364615495492, 22.53868089205289, 37.28521266207196, -16.344579386963712, -26.970130441059517, 25.15018103895656, -38.934139484197594, 17.445164454401386, -28.412641029828496, 1.8822353203687352, -23.859696971663404, -12.550802186954392, -18.667480414620304, -33.8551117923492, -8.636784898833314, -14.186642596522317, 7.682632146198222, 0.9561313362836785, -31.111872889456073, -47.24194038209344, -17.01243401634816, -21.336869858558195, 25.67741179824076, -92.677923403518, -24.588653788447647, -4.881785962651266, 91.44062775660753, 99.33957426791906, 42.75414412398939, 50.377803555023476, -60.31299569690344, -18.544390022981368, 77.9240564045038], \"z\": [8.21779645851346, 28.30208703481694, 7.790360960944113, 13.157812092097517, 35.13668665382092, 18.673708823776444, 28.690549046634498, 11.051615249765556, -11.620944162367405, 1.1463085399722621, -8.823375787449649, 1.9790565806412037, -7.013082896667533, 16.672546809365087, 46.59099677426172, -6.489998937211784, -53.47925288927195, -28.337752064607752, 23.08912601636441, -37.36957552815457, -6.681007370863801, -30.729164705366795, 19.414145856672103, 8.77385106856907, -8.962635731660978, 15.143593430240761, 20.38166058682888, -14.628001159293975, -14.676639302231244, -0.6204385882538054, -22.728980757884408, 14.910884098699874, -8.821064338914512, 8.787186351291293, -13.689073299024066, 5.043065933068656, 15.037774584014903, -17.18381634288761, 99.84937620541014, 23.984641642564643, 36.818051413003346, -34.93476761493904, -7.401650004482188, -17.581867505781204, -51.592911125883155, -22.526467324858686, 4.960502913731998, -50.34219488390945, -48.23950994447708, 16.618241086155304, -2.4403499383655127, 14.092630502835046, 19.338617630283274, 5.595491932790487, -4.017406714670536, -12.760739021568394, -41.36686411508994, -0.16635046379580315, 31.95890791943646, 15.93439117743659, -46.03548278379611, 5.433802658447412, 47.47276036912799, 7.515055120323278, -6.893331520505206, -22.376758620858826, -2.6778476754738354, 1.9132479538969736, 4.517237413584123, -12.773868290691437, -6.259867675810947, -2.3149192736453412, -3.1066533982152835, -11.779198319510982, 7.903126584052116, -8.105409356746312, -52.55811685083874, 36.78242616063725, -31.48561069808812, 30.228376693381065, -0.062084983968876295, 23.653083150689486, 35.47663700279969, 15.705756664798768, -67.59147399125503, 23.869517751915414, 24.030616467942885, 19.58713407751555, -31.053975261064693, -28.875286611726832, -4.820294682930712, 3.6134656419593254, -14.303796937300362, -0.5608940859405911, -9.488574979417537, 36.46783057873063, -10.601386008606468, 14.559830418228671, -5.353818263958908, -41.32426849093203, 55.452375324949465, 15.3625549526711, -5.957129970100749, 1.1869094764562567, -7.886610645072224, -7.979152944766623, 4.716998092669284, -2.74964519911799, 5.532510261680367, 27.682906691601552, 21.61719533049011, 11.713672897281983, -7.030183324047021, -47.46081079191528, 3.368740757693243, 14.230043896525912, -23.786986069000122, 0.6106825866700741, -0.1631788800800182, -11.241850726166177, 63.47668925134569, 3.2779733064040895, -36.72929859818655, -17.345878176951896, 4.287458350351272, -14.428754652207134]}],\n",
       "                        {\"coloraxis\": {\"colorbar\": {\"title\": {\"text\": \"color\"}}, \"colorscale\": [[0.0, \"#0d0887\"], [0.1111111111111111, \"#46039f\"], [0.2222222222222222, \"#7201a8\"], [0.3333333333333333, \"#9c179e\"], [0.4444444444444444, \"#bd3786\"], [0.5555555555555556, \"#d8576b\"], [0.6666666666666666, \"#ed7953\"], [0.7777777777777778, \"#fb9f3a\"], [0.8888888888888888, \"#fdca26\"], [1.0, \"#f0f921\"]]}, \"legend\": {\"tracegroupgap\": 0}, \"margin\": {\"t\": 60}, \"scene\": {\"domain\": {\"x\": [0.0, 1.0], \"y\": [0.0, 1.0]}, \"xaxis\": {\"title\": {\"text\": \"x\"}}, \"yaxis\": {\"title\": {\"text\": \"y\"}}, \"zaxis\": {\"title\": {\"text\": \"z\"}}}, \"template\": {\"data\": {\"bar\": [{\"error_x\": {\"color\": \"#2a3f5f\"}, \"error_y\": {\"color\": \"#2a3f5f\"}, \"marker\": {\"line\": {\"color\": \"#E5ECF6\", \"width\": 0.5}}, \"type\": \"bar\"}], \"barpolar\": [{\"marker\": {\"line\": {\"color\": \"#E5ECF6\", \"width\": 0.5}}, \"type\": \"barpolar\"}], \"carpet\": [{\"aaxis\": {\"endlinecolor\": \"#2a3f5f\", \"gridcolor\": \"white\", \"linecolor\": \"white\", \"minorgridcolor\": \"white\", \"startlinecolor\": \"#2a3f5f\"}, \"baxis\": {\"endlinecolor\": \"#2a3f5f\", \"gridcolor\": \"white\", \"linecolor\": \"white\", \"minorgridcolor\": \"white\", \"startlinecolor\": \"#2a3f5f\"}, \"type\": \"carpet\"}], \"choropleth\": [{\"colorbar\": {\"outlinewidth\": 0, \"ticks\": \"\"}, \"type\": \"choropleth\"}], \"contour\": [{\"colorbar\": {\"outlinewidth\": 0, \"ticks\": \"\"}, \"colorscale\": [[0.0, \"#0d0887\"], [0.1111111111111111, \"#46039f\"], [0.2222222222222222, \"#7201a8\"], [0.3333333333333333, \"#9c179e\"], [0.4444444444444444, \"#bd3786\"], [0.5555555555555556, \"#d8576b\"], [0.6666666666666666, \"#ed7953\"], [0.7777777777777778, \"#fb9f3a\"], [0.8888888888888888, \"#fdca26\"], [1.0, \"#f0f921\"]], \"type\": \"contour\"}], \"contourcarpet\": [{\"colorbar\": {\"outlinewidth\": 0, \"ticks\": \"\"}, \"type\": \"contourcarpet\"}], \"heatmap\": [{\"colorbar\": {\"outlinewidth\": 0, \"ticks\": \"\"}, \"colorscale\": [[0.0, \"#0d0887\"], [0.1111111111111111, \"#46039f\"], [0.2222222222222222, \"#7201a8\"], [0.3333333333333333, \"#9c179e\"], [0.4444444444444444, \"#bd3786\"], [0.5555555555555556, \"#d8576b\"], [0.6666666666666666, \"#ed7953\"], [0.7777777777777778, \"#fb9f3a\"], [0.8888888888888888, \"#fdca26\"], [1.0, \"#f0f921\"]], \"type\": \"heatmap\"}], \"heatmapgl\": [{\"colorbar\": {\"outlinewidth\": 0, \"ticks\": \"\"}, \"colorscale\": [[0.0, \"#0d0887\"], [0.1111111111111111, \"#46039f\"], [0.2222222222222222, \"#7201a8\"], [0.3333333333333333, \"#9c179e\"], [0.4444444444444444, \"#bd3786\"], [0.5555555555555556, \"#d8576b\"], [0.6666666666666666, \"#ed7953\"], [0.7777777777777778, \"#fb9f3a\"], [0.8888888888888888, \"#fdca26\"], [1.0, \"#f0f921\"]], \"type\": \"heatmapgl\"}], \"histogram\": [{\"marker\": {\"colorbar\": {\"outlinewidth\": 0, \"ticks\": \"\"}}, \"type\": \"histogram\"}], \"histogram2d\": [{\"colorbar\": {\"outlinewidth\": 0, \"ticks\": \"\"}, \"colorscale\": [[0.0, \"#0d0887\"], [0.1111111111111111, \"#46039f\"], [0.2222222222222222, \"#7201a8\"], [0.3333333333333333, \"#9c179e\"], [0.4444444444444444, \"#bd3786\"], [0.5555555555555556, \"#d8576b\"], [0.6666666666666666, \"#ed7953\"], [0.7777777777777778, \"#fb9f3a\"], [0.8888888888888888, \"#fdca26\"], [1.0, \"#f0f921\"]], \"type\": \"histogram2d\"}], \"histogram2dcontour\": [{\"colorbar\": {\"outlinewidth\": 0, \"ticks\": \"\"}, \"colorscale\": [[0.0, \"#0d0887\"], [0.1111111111111111, \"#46039f\"], [0.2222222222222222, \"#7201a8\"], [0.3333333333333333, \"#9c179e\"], [0.4444444444444444, \"#bd3786\"], [0.5555555555555556, \"#d8576b\"], [0.6666666666666666, \"#ed7953\"], [0.7777777777777778, \"#fb9f3a\"], [0.8888888888888888, \"#fdca26\"], [1.0, \"#f0f921\"]], \"type\": \"histogram2dcontour\"}], \"mesh3d\": [{\"colorbar\": {\"outlinewidth\": 0, \"ticks\": \"\"}, \"type\": \"mesh3d\"}], \"parcoords\": [{\"line\": {\"colorbar\": {\"outlinewidth\": 0, \"ticks\": \"\"}}, \"type\": \"parcoords\"}], \"pie\": [{\"automargin\": true, \"type\": \"pie\"}], \"scatter\": [{\"marker\": {\"colorbar\": {\"outlinewidth\": 0, \"ticks\": \"\"}}, \"type\": \"scatter\"}], \"scatter3d\": [{\"line\": {\"colorbar\": {\"outlinewidth\": 0, \"ticks\": \"\"}}, \"marker\": {\"colorbar\": {\"outlinewidth\": 0, \"ticks\": \"\"}}, \"type\": \"scatter3d\"}], \"scattercarpet\": [{\"marker\": {\"colorbar\": {\"outlinewidth\": 0, \"ticks\": \"\"}}, \"type\": \"scattercarpet\"}], \"scattergeo\": [{\"marker\": {\"colorbar\": {\"outlinewidth\": 0, \"ticks\": \"\"}}, \"type\": \"scattergeo\"}], \"scattergl\": [{\"marker\": {\"colorbar\": {\"outlinewidth\": 0, \"ticks\": \"\"}}, \"type\": \"scattergl\"}], \"scattermapbox\": [{\"marker\": {\"colorbar\": {\"outlinewidth\": 0, \"ticks\": \"\"}}, \"type\": \"scattermapbox\"}], \"scatterpolar\": [{\"marker\": {\"colorbar\": {\"outlinewidth\": 0, \"ticks\": \"\"}}, \"type\": \"scatterpolar\"}], \"scatterpolargl\": [{\"marker\": {\"colorbar\": {\"outlinewidth\": 0, \"ticks\": \"\"}}, \"type\": \"scatterpolargl\"}], \"scatterternary\": [{\"marker\": {\"colorbar\": {\"outlinewidth\": 0, \"ticks\": \"\"}}, \"type\": \"scatterternary\"}], \"surface\": [{\"colorbar\": {\"outlinewidth\": 0, \"ticks\": \"\"}, \"colorscale\": [[0.0, \"#0d0887\"], [0.1111111111111111, \"#46039f\"], [0.2222222222222222, \"#7201a8\"], [0.3333333333333333, \"#9c179e\"], [0.4444444444444444, \"#bd3786\"], [0.5555555555555556, \"#d8576b\"], [0.6666666666666666, \"#ed7953\"], [0.7777777777777778, \"#fb9f3a\"], [0.8888888888888888, \"#fdca26\"], [1.0, \"#f0f921\"]], \"type\": \"surface\"}], \"table\": [{\"cells\": {\"fill\": {\"color\": \"#EBF0F8\"}, \"line\": {\"color\": \"white\"}}, \"header\": {\"fill\": {\"color\": \"#C8D4E3\"}, \"line\": {\"color\": \"white\"}}, \"type\": \"table\"}]}, \"layout\": {\"annotationdefaults\": {\"arrowcolor\": \"#2a3f5f\", \"arrowhead\": 0, \"arrowwidth\": 1}, \"coloraxis\": {\"colorbar\": {\"outlinewidth\": 0, \"ticks\": \"\"}}, \"colorscale\": {\"diverging\": [[0, \"#8e0152\"], [0.1, \"#c51b7d\"], [0.2, \"#de77ae\"], [0.3, \"#f1b6da\"], [0.4, \"#fde0ef\"], [0.5, \"#f7f7f7\"], [0.6, \"#e6f5d0\"], [0.7, \"#b8e186\"], [0.8, \"#7fbc41\"], [0.9, \"#4d9221\"], [1, \"#276419\"]], \"sequential\": [[0.0, \"#0d0887\"], [0.1111111111111111, \"#46039f\"], [0.2222222222222222, \"#7201a8\"], [0.3333333333333333, \"#9c179e\"], [0.4444444444444444, \"#bd3786\"], [0.5555555555555556, \"#d8576b\"], [0.6666666666666666, \"#ed7953\"], [0.7777777777777778, \"#fb9f3a\"], [0.8888888888888888, \"#fdca26\"], [1.0, \"#f0f921\"]], \"sequentialminus\": [[0.0, \"#0d0887\"], [0.1111111111111111, \"#46039f\"], [0.2222222222222222, \"#7201a8\"], [0.3333333333333333, \"#9c179e\"], [0.4444444444444444, \"#bd3786\"], [0.5555555555555556, \"#d8576b\"], [0.6666666666666666, \"#ed7953\"], [0.7777777777777778, \"#fb9f3a\"], [0.8888888888888888, \"#fdca26\"], [1.0, \"#f0f921\"]]}, \"colorway\": [\"#636efa\", \"#EF553B\", \"#00cc96\", \"#ab63fa\", \"#FFA15A\", \"#19d3f3\", \"#FF6692\", \"#B6E880\", \"#FF97FF\", \"#FECB52\"], \"font\": {\"color\": \"#2a3f5f\"}, \"geo\": {\"bgcolor\": \"white\", \"lakecolor\": \"white\", \"landcolor\": \"#E5ECF6\", \"showlakes\": true, \"showland\": true, \"subunitcolor\": \"white\"}, \"hoverlabel\": {\"align\": \"left\"}, \"hovermode\": \"closest\", \"mapbox\": {\"style\": \"light\"}, \"paper_bgcolor\": \"white\", \"plot_bgcolor\": \"#E5ECF6\", \"polar\": {\"angularaxis\": {\"gridcolor\": \"white\", \"linecolor\": \"white\", \"ticks\": \"\"}, \"bgcolor\": \"#E5ECF6\", \"radialaxis\": {\"gridcolor\": \"white\", \"linecolor\": \"white\", \"ticks\": \"\"}}, \"scene\": {\"xaxis\": {\"backgroundcolor\": \"#E5ECF6\", \"gridcolor\": \"white\", \"gridwidth\": 2, \"linecolor\": \"white\", \"showbackground\": true, \"ticks\": \"\", \"zerolinecolor\": \"white\"}, \"yaxis\": {\"backgroundcolor\": \"#E5ECF6\", \"gridcolor\": \"white\", \"gridwidth\": 2, \"linecolor\": \"white\", \"showbackground\": true, \"ticks\": \"\", \"zerolinecolor\": \"white\"}, \"zaxis\": {\"backgroundcolor\": \"#E5ECF6\", \"gridcolor\": \"white\", \"gridwidth\": 2, \"linecolor\": \"white\", \"showbackground\": true, \"ticks\": \"\", \"zerolinecolor\": \"white\"}}, \"shapedefaults\": {\"line\": {\"color\": \"#2a3f5f\"}}, \"ternary\": {\"aaxis\": {\"gridcolor\": \"white\", \"linecolor\": \"white\", \"ticks\": \"\"}, \"baxis\": {\"gridcolor\": \"white\", \"linecolor\": \"white\", \"ticks\": \"\"}, \"bgcolor\": \"#E5ECF6\", \"caxis\": {\"gridcolor\": \"white\", \"linecolor\": \"white\", \"ticks\": \"\"}}, \"title\": {\"x\": 0.05}, \"xaxis\": {\"automargin\": true, \"gridcolor\": \"white\", \"linecolor\": \"white\", \"ticks\": \"\", \"title\": {\"standoff\": 15}, \"zerolinecolor\": \"white\", \"zerolinewidth\": 2}, \"yaxis\": {\"automargin\": true, \"gridcolor\": \"white\", \"linecolor\": \"white\", \"ticks\": \"\", \"title\": {\"standoff\": 15}, \"zerolinecolor\": \"white\", \"zerolinewidth\": 2}}}},\n",
       "                        {\"responsive\": true}\n",
       "                    ).then(function(){\n",
       "                            \n",
       "var gd = document.getElementById('dd187854-329a-49c8-a597-dfeaeeb05239');\n",
       "var x = new MutationObserver(function (mutations, observer) {{\n",
       "        var display = window.getComputedStyle(gd).display;\n",
       "        if (!display || display === 'none') {{\n",
       "            console.log([gd, 'removed!']);\n",
       "            Plotly.purge(gd);\n",
       "            observer.disconnect();\n",
       "        }}\n",
       "}});\n",
       "\n",
       "// Listen for the removal of the full notebook cells\n",
       "var notebookContainer = gd.closest('#notebook-container');\n",
       "if (notebookContainer) {{\n",
       "    x.observe(notebookContainer, {childList: true});\n",
       "}}\n",
       "\n",
       "// Listen for the clearing of the current output cell\n",
       "var outputEl = gd.closest('.output');\n",
       "if (outputEl) {{\n",
       "    x.observe(outputEl, {childList: true});\n",
       "}}\n",
       "\n",
       "                        })\n",
       "                };\n",
       "                });\n",
       "            </script>\n",
       "        </div>"
      ]
     },
     "metadata": {},
     "output_type": "display_data"
    }
   ],
   "source": [
    "pca3 = PCA(n_components=3).fit(X_train)\n",
    "reduced_X_train = pca3.transform(X_train)\n",
    "\n",
    "fig = px.scatter_3d(reduced_X_train, x=reduced_X_train[:,0], y=reduced_X_train[:,1], z=reduced_X_train[:,2], color=y_train)\n",
    "\n",
    "plotly.offline.iplot(fig)"
   ]
  },
  {
   "cell_type": "markdown",
   "metadata": {},
   "source": [
    "## Starting with a baseline Model\n",
    "\n",
    "### Neural Network"
   ]
  },
  {
   "cell_type": "code",
   "execution_count": null,
   "metadata": {},
   "outputs": [],
   "source": []
  }
 ],
 "metadata": {
  "kernelspec": {
   "display_name": "Python 3",
   "language": "python",
   "name": "python3"
  },
  "language_info": {
   "codemirror_mode": {
    "name": "ipython",
    "version": 3
   },
   "file_extension": ".py",
   "mimetype": "text/x-python",
   "name": "python",
   "nbconvert_exporter": "python",
   "pygments_lexer": "ipython3",
   "version": "3.8.1"
  }
 },
 "nbformat": 4,
 "nbformat_minor": 4
}
