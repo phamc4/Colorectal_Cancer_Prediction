{
 "cells": [
  {
   "cell_type": "code",
   "execution_count": 1,
   "metadata": {},
   "outputs": [],
   "source": [
    "import pandas as pd\n",
    "import numpy as np\n",
    "import matplotlib.pyplot as plt\n",
    "import seaborn as sns\n",
    "from mpl_toolkits.mplot3d import Axes3D\n",
    "# import plotly\n",
    "# from plotly.offline import init_notebook_mode, iplot\n",
    "# init_notebook_mode(connected=True)\n",
    "# import plotly.graph_objs as go\n",
    "\n",
    "from sklearn.model_selection import train_test_split, GridSearchCV, cross_val_score\n",
    "from sklearn.preprocessing import StandardScaler, LabelEncoder\n",
    "from sklearn.decomposition import PCA\n",
    "from sklearn.pipeline import Pipeline\n",
    "from sklearn.linear_model import Lasso, LogisticRegression\n",
    "from sklearn.feature_selection import SelectFromModel\n",
    "\n",
    "from sklearn.naive_bayes import GaussianNB\n",
    "from sklearn.cluster import KMeans\n",
    "from sklearn.ensemble import RandomForestClassifier\n",
    "from sklearn.metrics import accuracy_score, confusion_matrix, log_loss\n",
    "\n",
    "# from keras.models import Sequential\n",
    "# from keras.layers import Dense, Dropout, Activation\n",
    "plt.style.use('ggplot')\n",
    "\n",
    "%matplotlib inline\n"
   ]
  },
  {
   "cell_type": "code",
   "execution_count": 31,
   "metadata": {},
   "outputs": [],
   "source": [
    "from src.Cleaner import *\n",
    "from src.probeset_preprocessing import *"
   ]
  },
  {
   "cell_type": "code",
   "execution_count": 3,
   "metadata": {},
   "outputs": [],
   "source": [
    "df = pd.read_csv('data/Colorectal_GSE44076.csv')"
   ]
  },
  {
   "cell_type": "code",
   "execution_count": 4,
   "metadata": {},
   "outputs": [
    {
     "data": {
      "text/plain": [
       "type\n",
       "adenocarcinoma    97\n",
       "normal            97\n",
       "Name: type, dtype: int64"
      ]
     },
     "execution_count": 4,
     "metadata": {},
     "output_type": "execute_result"
    }
   ],
   "source": [
    "df.groupby('type')['type'].count()"
   ]
  },
  {
   "cell_type": "code",
   "execution_count": 5,
   "metadata": {},
   "outputs": [
    {
     "data": {
      "text/plain": [
       "['normal', 'adenocarcinoma']"
      ]
     },
     "execution_count": 5,
     "metadata": {},
     "output_type": "execute_result"
    }
   ],
   "source": [
    "target_labels = labels(df)\n",
    "target_labels"
   ]
  },
  {
   "cell_type": "code",
   "execution_count": 6,
   "metadata": {},
   "outputs": [
    {
     "data": {
      "text/html": [
       "<div>\n",
       "<style scoped>\n",
       "    .dataframe tbody tr th:only-of-type {\n",
       "        vertical-align: middle;\n",
       "    }\n",
       "\n",
       "    .dataframe tbody tr th {\n",
       "        vertical-align: top;\n",
       "    }\n",
       "\n",
       "    .dataframe thead th {\n",
       "        text-align: right;\n",
       "    }\n",
       "</style>\n",
       "<table border=\"1\" class=\"dataframe\">\n",
       "  <thead>\n",
       "    <tr style=\"text-align: right;\">\n",
       "      <th></th>\n",
       "      <th>target</th>\n",
       "      <th>11715100_at</th>\n",
       "      <th>11715101_s_at</th>\n",
       "      <th>11715102_x_at</th>\n",
       "      <th>11715103_x_at</th>\n",
       "      <th>11715104_s_at</th>\n",
       "      <th>11715105_at</th>\n",
       "      <th>11715106_x_at</th>\n",
       "      <th>11715107_s_at</th>\n",
       "      <th>11715108_x_at</th>\n",
       "      <th>...</th>\n",
       "      <th>AFFX-r2-TagO-3_at</th>\n",
       "      <th>AFFX-r2-TagO-5_at</th>\n",
       "      <th>AFFX-r2-TagQ-3_at</th>\n",
       "      <th>AFFX-r2-TagQ-5_at</th>\n",
       "      <th>AFFX-ThrX-3_at</th>\n",
       "      <th>AFFX-ThrX-5_at</th>\n",
       "      <th>AFFX-ThrX-M_at</th>\n",
       "      <th>AFFX-TrpnX-3_at</th>\n",
       "      <th>AFFX-TrpnX-5_at</th>\n",
       "      <th>AFFX-TrpnX-M_at</th>\n",
       "    </tr>\n",
       "  </thead>\n",
       "  <tbody>\n",
       "    <tr>\n",
       "      <td>0</td>\n",
       "      <td>1</td>\n",
       "      <td>4.033083</td>\n",
       "      <td>3.991328</td>\n",
       "      <td>3.522487</td>\n",
       "      <td>3.278373</td>\n",
       "      <td>7.201681</td>\n",
       "      <td>2.166355</td>\n",
       "      <td>2.841044</td>\n",
       "      <td>2.217360</td>\n",
       "      <td>2.066134</td>\n",
       "      <td>...</td>\n",
       "      <td>2.233052</td>\n",
       "      <td>2.321627</td>\n",
       "      <td>2.602364</td>\n",
       "      <td>2.272951</td>\n",
       "      <td>8.236181</td>\n",
       "      <td>4.766301</td>\n",
       "      <td>6.624126</td>\n",
       "      <td>2.191907</td>\n",
       "      <td>2.089431</td>\n",
       "      <td>2.196678</td>\n",
       "    </tr>\n",
       "    <tr>\n",
       "      <td>1</td>\n",
       "      <td>1</td>\n",
       "      <td>3.117273</td>\n",
       "      <td>4.047258</td>\n",
       "      <td>3.042704</td>\n",
       "      <td>3.284518</td>\n",
       "      <td>8.425413</td>\n",
       "      <td>2.139838</td>\n",
       "      <td>2.632561</td>\n",
       "      <td>2.375537</td>\n",
       "      <td>2.417156</td>\n",
       "      <td>...</td>\n",
       "      <td>2.033923</td>\n",
       "      <td>2.335442</td>\n",
       "      <td>2.061999</td>\n",
       "      <td>1.979024</td>\n",
       "      <td>7.079312</td>\n",
       "      <td>4.687041</td>\n",
       "      <td>5.775218</td>\n",
       "      <td>2.013578</td>\n",
       "      <td>2.189192</td>\n",
       "      <td>2.106554</td>\n",
       "    </tr>\n",
       "    <tr>\n",
       "      <td>2</td>\n",
       "      <td>1</td>\n",
       "      <td>3.513162</td>\n",
       "      <td>4.154993</td>\n",
       "      <td>3.067877</td>\n",
       "      <td>3.478020</td>\n",
       "      <td>7.337592</td>\n",
       "      <td>2.070858</td>\n",
       "      <td>2.632643</td>\n",
       "      <td>2.542989</td>\n",
       "      <td>2.371663</td>\n",
       "      <td>...</td>\n",
       "      <td>1.874741</td>\n",
       "      <td>2.522885</td>\n",
       "      <td>2.577079</td>\n",
       "      <td>2.017303</td>\n",
       "      <td>6.966157</td>\n",
       "      <td>3.498785</td>\n",
       "      <td>5.384117</td>\n",
       "      <td>2.124996</td>\n",
       "      <td>2.175054</td>\n",
       "      <td>2.168932</td>\n",
       "    </tr>\n",
       "    <tr>\n",
       "      <td>3</td>\n",
       "      <td>1</td>\n",
       "      <td>3.487588</td>\n",
       "      <td>4.505968</td>\n",
       "      <td>3.688899</td>\n",
       "      <td>3.642465</td>\n",
       "      <td>7.319168</td>\n",
       "      <td>2.191685</td>\n",
       "      <td>2.567842</td>\n",
       "      <td>2.551201</td>\n",
       "      <td>2.517034</td>\n",
       "      <td>...</td>\n",
       "      <td>1.795535</td>\n",
       "      <td>2.147798</td>\n",
       "      <td>2.439898</td>\n",
       "      <td>2.157677</td>\n",
       "      <td>8.899968</td>\n",
       "      <td>6.943802</td>\n",
       "      <td>7.908001</td>\n",
       "      <td>1.969787</td>\n",
       "      <td>2.125711</td>\n",
       "      <td>2.311073</td>\n",
       "    </tr>\n",
       "    <tr>\n",
       "      <td>4</td>\n",
       "      <td>1</td>\n",
       "      <td>3.096174</td>\n",
       "      <td>3.997803</td>\n",
       "      <td>3.404045</td>\n",
       "      <td>2.984088</td>\n",
       "      <td>7.652969</td>\n",
       "      <td>2.374705</td>\n",
       "      <td>2.178836</td>\n",
       "      <td>2.852997</td>\n",
       "      <td>2.407605</td>\n",
       "      <td>...</td>\n",
       "      <td>1.965137</td>\n",
       "      <td>2.655806</td>\n",
       "      <td>2.330900</td>\n",
       "      <td>2.230463</td>\n",
       "      <td>7.878767</td>\n",
       "      <td>5.718627</td>\n",
       "      <td>6.654383</td>\n",
       "      <td>2.015329</td>\n",
       "      <td>2.339691</td>\n",
       "      <td>2.347252</td>\n",
       "    </tr>\n",
       "  </tbody>\n",
       "</table>\n",
       "<p>5 rows × 49387 columns</p>\n",
       "</div>"
      ],
      "text/plain": [
       "   target  11715100_at  11715101_s_at  11715102_x_at  11715103_x_at  \\\n",
       "0       1     4.033083       3.991328       3.522487       3.278373   \n",
       "1       1     3.117273       4.047258       3.042704       3.284518   \n",
       "2       1     3.513162       4.154993       3.067877       3.478020   \n",
       "3       1     3.487588       4.505968       3.688899       3.642465   \n",
       "4       1     3.096174       3.997803       3.404045       2.984088   \n",
       "\n",
       "   11715104_s_at  11715105_at  11715106_x_at  11715107_s_at  11715108_x_at  \\\n",
       "0       7.201681     2.166355       2.841044       2.217360       2.066134   \n",
       "1       8.425413     2.139838       2.632561       2.375537       2.417156   \n",
       "2       7.337592     2.070858       2.632643       2.542989       2.371663   \n",
       "3       7.319168     2.191685       2.567842       2.551201       2.517034   \n",
       "4       7.652969     2.374705       2.178836       2.852997       2.407605   \n",
       "\n",
       "   ...  AFFX-r2-TagO-3_at  AFFX-r2-TagO-5_at  AFFX-r2-TagQ-3_at  \\\n",
       "0  ...           2.233052           2.321627           2.602364   \n",
       "1  ...           2.033923           2.335442           2.061999   \n",
       "2  ...           1.874741           2.522885           2.577079   \n",
       "3  ...           1.795535           2.147798           2.439898   \n",
       "4  ...           1.965137           2.655806           2.330900   \n",
       "\n",
       "   AFFX-r2-TagQ-5_at  AFFX-ThrX-3_at  AFFX-ThrX-5_at  AFFX-ThrX-M_at  \\\n",
       "0           2.272951        8.236181        4.766301        6.624126   \n",
       "1           1.979024        7.079312        4.687041        5.775218   \n",
       "2           2.017303        6.966157        3.498785        5.384117   \n",
       "3           2.157677        8.899968        6.943802        7.908001   \n",
       "4           2.230463        7.878767        5.718627        6.654383   \n",
       "\n",
       "   AFFX-TrpnX-3_at  AFFX-TrpnX-5_at  AFFX-TrpnX-M_at  \n",
       "0         2.191907         2.089431         2.196678  \n",
       "1         2.013578         2.189192         2.106554  \n",
       "2         2.124996         2.175054         2.168932  \n",
       "3         1.969787         2.125711         2.311073  \n",
       "4         2.015329         2.339691         2.347252  \n",
       "\n",
       "[5 rows x 49387 columns]"
      ]
     },
     "execution_count": 6,
     "metadata": {},
     "output_type": "execute_result"
    }
   ],
   "source": [
    "cleaned_df = data_cleaner(df)\n",
    "cleaned_df.head()"
   ]
  },
  {
   "cell_type": "code",
   "execution_count": 7,
   "metadata": {},
   "outputs": [],
   "source": [
    "X = cleaned_df.drop(columns='target')\n",
    "y = cleaned_df['target']"
   ]
  },
  {
   "cell_type": "code",
   "execution_count": 8,
   "metadata": {},
   "outputs": [],
   "source": [
    "X_train, X_test, y_train, y_test = train_test_split(X, y, test_size=.35, shuffle=True, random_state=16)"
   ]
  },
  {
   "cell_type": "code",
   "execution_count": 9,
   "metadata": {},
   "outputs": [],
   "source": [
    "#Standardize the data\n",
    "scaler = StandardScaler()\n",
    "X_train_scaled = scaler.fit_transform(X_train)\n",
    "X_test_scaled = scaler.transform(X_test)"
   ]
  },
  {
   "cell_type": "markdown",
   "metadata": {},
   "source": [
    "## PCA"
   ]
  },
  {
   "cell_type": "code",
   "execution_count": 10,
   "metadata": {},
   "outputs": [
    {
     "name": "stdout",
     "output_type": "stream",
     "text": [
      "33\n"
     ]
    },
    {
     "data": {
      "image/png": "[encoded data removed]",
      "text/plain": [
       "<Figure size 1296x864 with 2 Axes>"
      ]
     },
     "metadata": {
      "needs_background": "light"
     },
     "output_type": "display_data"
    }
   ],
   "source": [
    "pcd = PCA()\n",
    "pcd.fit_transform(X_train)\n",
    "total_variance = sum(pcd.explained_variance_)\n",
    "curr_variance = 0\n",
    "k = 0\n",
    "while curr_variance/total_variance < .80:\n",
    "    curr_variance += pcd.explained_variance_[k]\n",
    "    k += 1\n",
    "    \n",
    "\n",
    "features = range(k)\n",
    "pcd = PCA(n_components=k)\n",
    "X_train_pca = pcd.fit_transform(X_test)\n",
    "X_test_pca = pcd.transform(X_test)\n",
    "\n",
    "variance = pcd.explained_variance_ratio_\n",
    "cumsum_variance = pcd.explained_variance_ratio_.cumsum()\n",
    "\n",
    "fig, axs = plt.subplots(2,1, figsize=(18,12))\n",
    "ax = axs.flatten()\n",
    "ax[0].bar(features, variance)\n",
    "ax[0].set_ylabel('Variance %')\n",
    "ax[0].set_xlabel('Number of Components')\n",
    "ax[0].set_title('Explained Variance By Components')\n",
    "\n",
    "\n",
    "ax[1].plot(features, cumsum_variance, marker='o', linestyle='--')\n",
    "ax[1].set_ylabel('Cumulative Explained Variance %')\n",
    "ax[1].set_xlabel('Number of Components')\n",
    "ax[1].set_title('Explained Variance By Components')\n",
    "print(k)"
   ]
  },
  {
   "cell_type": "code",
   "execution_count": 11,
   "metadata": {},
   "outputs": [],
   "source": [
    "pca3 = PCA(n_components=3).fit(X_train)\n",
    "reduced_X_train = pca3.transform(X_train)\n",
    "\n",
    "# x = reduced_X_train[:,0]\n",
    "# y = reduced_X_train[:,1]\n",
    "# z = reduced_X_train[:,2]\n",
    "\n",
    "# trace1 = go.Scatter3d(\n",
    "#         x=x,\n",
    "#         y=y,\n",
    "#         z=z,\n",
    "#         mode='markers',\n",
    "#         marker=dict(\n",
    "#         size=12,\n",
    "#         color=y_train,\n",
    "#         colorscale='Viridis',\n",
    "#         opacity=0.8))\n",
    "\n",
    "# data = [trace1]\n",
    "# layout = go.Layout(\n",
    "#         margin=dict(\n",
    "#         l=0,\n",
    "#         r=0,\n",
    "#         b=0,\n",
    "#         t=0,)\n",
    "# )\n",
    "\n",
    "# fig = go.Figure(data=data, layout=layout)\n",
    "# iplot(fig, filename='PCA 3d plot')"
   ]
  },
  {
   "cell_type": "code",
   "execution_count": 12,
   "metadata": {},
   "outputs": [
    {
     "data": {
      "text/plain": [
       "[]"
      ]
     },
     "execution_count": 12,
     "metadata": {},
     "output_type": "execute_result"
    },
    {
     "data": {
      "text/plain": [
       "<Figure size 432x288 with 0 Axes>"
      ]
     },
     "metadata": {},
     "output_type": "display_data"
    },
    {
     "data": {
      "image/png": "[encoded data removed]",
      "text/plain": [
       "<Figure size 720x432 with 1 Axes>"
      ]
     },
     "metadata": {
      "needs_background": "light"
     },
     "output_type": "display_data"
    }
   ],
   "source": [
    "pca3 = PCA(n_components=3).fit(X_train)\n",
    "X_train_reduced = pca3.transform(X_train)\n",
    "\n",
    "plt.clf()\n",
    "fig = plt.figure(figsize=(10,6))\n",
    "ax = Axes3D(fig, elev=-160, azim=100,)\n",
    "ax.scatter(X_train_reduced[:, 0], X_train_reduced[:, 1], X_train_reduced[:, 2], c = np.array(['red','blue'])[y_train], cmap = plt.cm.Paired, linewidths=5)\n",
    "ax.set_title(\"First three PCA directions\")\n",
    "ax.set_xlabel(\"1st eigenvector\")\n",
    "ax.w_xaxis.set_ticklabels([])\n",
    "ax.set_ylabel(\"2nd eigenvector\")\n",
    "ax.w_yaxis.set_ticklabels([])\n",
    "ax.set_zlabel(\"3rd eigenvector\")\n",
    "ax.w_zaxis.set_ticklabels([])\n",
    "\n"
   ]
  },
  {
   "cell_type": "code",
   "execution_count": 13,
   "metadata": {},
   "outputs": [
    {
     "data": {
      "text/plain": [
       "Text(0.5, 1.0, 'Scatterplot in PCA 2-Plane')"
      ]
     },
     "execution_count": 13,
     "metadata": {},
     "output_type": "execute_result"
    },
    {
     "data": {
      "image/png": "[encoded data removed]",
      "text/plain": [
       "<Figure size 720x432 with 1 Axes>"
      ]
     },
     "metadata": {
      "needs_background": "light"
     },
     "output_type": "display_data"
    }
   ],
   "source": [
    "fig = plt.figure(1, figsize = (10, 6))\n",
    "plt.scatter(X_train_reduced[:, 0],  X_train_reduced[:, 1], c = np.array(['red','blue'])[y_train], cmap = plt.cm.Paired, linewidths=10)\n",
    "plt.title(\"Scatterplot in PCA 2-Plane\")"
   ]
  },
  {
   "cell_type": "markdown",
   "metadata": {},
   "source": [
    "## Starting with a baseline Model\n",
    "\n",
    "### Random Forest"
   ]
  },
  {
   "cell_type": "code",
   "execution_count": 14,
   "metadata": {},
   "outputs": [
    {
     "name": "stdout",
     "output_type": "stream",
     "text": [
      "Random Forest Accuracy:\n",
      " 0.971\n"
     ]
    }
   ],
   "source": [
    "rfmodel = RandomForestClassifier(n_estimators=100, criterion='entropy')\n",
    "\n",
    "rfmodel.fit(X_train, y_train)\n",
    "\n",
    "rf_pred = rfmodel.predict(X_test)\n",
    "\n",
    "rf_accuracy = round(accuracy_score(y_test, rf_pred), 3)\n",
    "print('Random Forest Accuracy:\\n', rf_accuracy)"
   ]
  },
  {
   "cell_type": "markdown",
   "metadata": {},
   "source": [
    "#### Accuracy seems good, we'll do a grid serach CV to fine tune the hyperparameters"
   ]
  },
  {
   "cell_type": "code",
   "execution_count": 15,
   "metadata": {},
   "outputs": [
    {
     "name": "stderr",
     "output_type": "stream",
     "text": [
      "C:\\Users\\tupha\\Anaconda3\\lib\\site-packages\\sklearn\\model_selection\\_search.py:814: DeprecationWarning: The default of the `iid` parameter will change from True to False in version 0.22 and will be removed in 0.24. This will change numeric results when test-set sizes are unequal.\n",
      "  DeprecationWarning)\n"
     ]
    }
   ],
   "source": [
    "rf_grid_param = {'bootstrap':[False, True],\n",
    "                'n_estimators': [50,100,150,200,250,500],\n",
    "                'max_depth': [5,10,15,20,25,30,35],\n",
    "                'min_samples_split': [5,10,15],\n",
    "                'min_samples_leaf': [10,15,20,25]}\n",
    "\n",
    "rf_estimator = RandomForestClassifier()\n",
    "\n",
    "rf_model = GridSearchCV(estimator=rf_estimator, param_grid=rf_grid_param, cv=5, scoring='accuracy', n_jobs=-1)\n",
    "\n",
    "rf_model.fit(X_train, y_train)\n",
    "\n",
    "rf_best = rf_model.best_estimator_"
   ]
  },
  {
   "cell_type": "code",
   "execution_count": 16,
   "metadata": {},
   "outputs": [
    {
     "name": "stdout",
     "output_type": "stream",
     "text": [
      "Best parameters:\n",
      " {'bootstrap': False, 'max_depth': 5, 'min_samples_leaf': 10, 'min_samples_split': 10, 'n_estimators': 50}\n",
      "Tuned Random Forest Accuracy:\n",
      " 0.971\n"
     ]
    },
    {
     "data": {
      "text/plain": [
       "[Text(0, 0.5, 'normal'), Text(0, 1.5, 'adenocarcinoma')]"
      ]
     },
     "execution_count": 16,
     "metadata": {},
     "output_type": "execute_result"
    },
    {
     "data": {
      "image/png": "[encoded data removed]",
      "text/plain": [
       "<Figure size 720x504 with 2 Axes>"
      ]
     },
     "metadata": {
      "needs_background": "light"
     },
     "output_type": "display_data"
    }
   ],
   "source": [
    "print('Best parameters:\\n', rf_model.best_params_)\n",
    "\n",
    "rf_pred = rf_best.predict(X_test)\n",
    "\n",
    "print('Tuned Random Forest Accuracy:\\n', round(accuracy_score(y_test, rf_pred), 3))\n",
    "rf_cm = confusion_matrix(y_test, rf_pred)\n",
    "\n",
    "fig, ax = plt.subplots(figsize=(10,7))\n",
    "\n",
    "sns.heatmap(rf_cm, annot=True, ax = ax, cmap='Reds')\n",
    "\n",
    "#Set axes labels\n",
    "ax.set_title('Random Forest Confusion Matrix')\n",
    "ax.set_ylabel('True Labels')\n",
    "ax.set_xlabel('Predicted Labels')\n",
    "\n",
    "#Set tick labels\n",
    "ax.xaxis.set_ticklabels(target_labels)\n",
    "ax.yaxis.set_ticklabels(target_labels, rotation=360)"
   ]
  },
  {
   "cell_type": "code",
   "execution_count": null,
   "metadata": {},
   "outputs": [],
   "source": []
  },
  {
   "cell_type": "code",
   "execution_count": null,
   "metadata": {},
   "outputs": [],
   "source": []
  },
  {
   "cell_type": "markdown",
   "metadata": {},
   "source": [
    "### Naive Bayes Model"
   ]
  },
  {
   "cell_type": "code",
   "execution_count": 17,
   "metadata": {},
   "outputs": [
    {
     "name": "stdout",
     "output_type": "stream",
     "text": [
      "Naive Bayes Accuracy: 0.985\n"
     ]
    },
    {
     "data": {
      "text/plain": [
       "[Text(0, 0.5, 'normal'), Text(0, 1.5, 'adenocarcinoma')]"
      ]
     },
     "execution_count": 17,
     "metadata": {},
     "output_type": "execute_result"
    },
    {
     "data": {
      "image/png": "[encoded data removed]",
      "text/plain": [
       "<Figure size 720x504 with 2 Axes>"
      ]
     },
     "metadata": {
      "needs_background": "light"
     },
     "output_type": "display_data"
    }
   ],
   "source": [
    "#Since the predictors/genes are continuous, we will use the gaussian Naive Bayes\n",
    "\n",
    "nb_model = GaussianNB()\n",
    "\n",
    "nb_model.fit(X_train, y_train)\n",
    "\n",
    "nb_pred = nb_model.predict(X_test)\n",
    "\n",
    "print('Naive Bayes Accuracy:', round(accuracy_score(y_test, nb_pred), 3))\n",
    "\n",
    "nb_cm = confusion_matrix(y_test, nb_pred)\n",
    "\n",
    "fig, ax = plt.subplots(figsize=(10,7))\n",
    "\n",
    "sns.heatmap(nb_cm, annot=True, ax = ax, cmap='Reds')\n",
    "\n",
    "#Set axes labels\n",
    "ax.set_title('Naive Bayes Confusion Matrix')\n",
    "ax.set_ylabel('True Labels')\n",
    "ax.set_xlabel('Predicted Labels')\n",
    "\n",
    "#Set tick labels\n",
    "ax.xaxis.set_ticklabels(target_labels)\n",
    "ax.yaxis.set_ticklabels(target_labels, rotation=360)"
   ]
  },
  {
   "cell_type": "markdown",
   "metadata": {},
   "source": [
    "### K Means Clustering"
   ]
  },
  {
   "cell_type": "code",
   "execution_count": 18,
   "metadata": {},
   "outputs": [
    {
     "name": "stdout",
     "output_type": "stream",
     "text": [
      "K Means Clustering Accuracy:\n",
      " 0.029\n"
     ]
    },
    {
     "data": {
      "text/plain": [
       "[Text(0, 0.5, 'normal'), Text(0, 1.5, 'adenocarcinoma')]"
      ]
     },
     "execution_count": 18,
     "metadata": {},
     "output_type": "execute_result"
    },
    {
     "data": {
      "image/png": "[encoded data removed]",
      "text/plain": [
       "<Figure size 720x504 with 2 Axes>"
      ]
     },
     "metadata": {
      "needs_background": "light"
     },
     "output_type": "display_data"
    }
   ],
   "source": [
    "kmeans = KMeans(n_clusters=2, init='k-means++')\n",
    "kmeans.fit(X_train_pca)\n",
    "km_pred = kmeans.predict(X_test_pca)\n",
    "\n",
    "print('K Means Clustering Accuracy:\\n', round(accuracy_score(y_test, km_pred), 3))\n",
    "\n",
    "fig, ax = plt.subplots(figsize=(10,7))\n",
    "\n",
    "km_cm = confusion_matrix(y_test, km_pred)\n",
    "\n",
    "sns.heatmap(km_cm, annot=True, ax=ax, cmap='Reds')\n",
    "\n",
    "ax.set_title('Naive Bayes Confusion Matrix')\n",
    "ax.set_ylabel('True Labels')\n",
    "ax.set_xlabel('Predicted Labels')\n",
    "\n",
    "#Set tick labels\n",
    "ax.xaxis.set_ticklabels(target_labels)\n",
    "ax.yaxis.set_ticklabels(target_labels, rotation=360)"
   ]
  },
  {
   "cell_type": "code",
   "execution_count": 19,
   "metadata": {},
   "outputs": [
    {
     "data": {
      "text/plain": [
       "<matplotlib.collections.PathCollection at 0x18d3d613108>"
      ]
     },
     "execution_count": 19,
     "metadata": {},
     "output_type": "execute_result"
    },
    {
     "data": {
      "image/png": "[encoded data removed]",
      "text/plain": [
       "<Figure size 432x288 with 1 Axes>"
      ]
     },
     "metadata": {
      "needs_background": "light"
     },
     "output_type": "display_data"
    }
   ],
   "source": [
    "plt.scatter(X_test_pca[:,0], X_test_pca[:,1], c=km_pred, s=50, cmap='viridis')\n"
   ]
  },
  {
   "cell_type": "markdown",
   "metadata": {},
   "source": [
    "## Lasso"
   ]
  },
  {
   "cell_type": "code",
   "execution_count": 20,
   "metadata": {},
   "outputs": [
    {
     "data": {
      "text/plain": [
       "SelectFromModel(estimator=LogisticRegression(C=1, class_weight=None, dual=False,\n",
       "                                             fit_intercept=True,\n",
       "                                             intercept_scaling=1, l1_ratio=None,\n",
       "                                             max_iter=100, multi_class='warn',\n",
       "                                             n_jobs=None, penalty='l1',\n",
       "                                             random_state=None,\n",
       "                                             solver='liblinear', tol=0.0001,\n",
       "                                             verbose=0, warm_start=False),\n",
       "                max_features=None, norm_order=1, prefit=False, threshold=None)"
      ]
     },
     "execution_count": 20,
     "metadata": {},
     "output_type": "execute_result"
    }
   ],
   "source": [
    "sel_ = SelectFromModel(LogisticRegression(C=1, penalty='l1', solver='liblinear'))\n",
    "sel_.fit(X_train_scaled, y_train)"
   ]
  },
  {
   "cell_type": "code",
   "execution_count": 21,
   "metadata": {},
   "outputs": [
    {
     "name": "stdout",
     "output_type": "stream",
     "text": [
      "Total features:  49386\n",
      "Selected features:  101\n",
      "Features with coefficients that converged to zero:  49285\n"
     ]
    }
   ],
   "source": [
    "#Index wise numpy array of features/genes that lasso thought was important. False for features whose weights were shrunk to zero.\n",
    "sel_.get_support()\n",
    "\n",
    "selected_feats = X_train.columns[(sel_.get_support())]\n",
    "\n",
    "print('Total features: ', X_train.shape[1])\n",
    "print('Selected features: ', len(selected_feats))\n",
    "print('Features with coefficients that converged to zero: ', np.sum(sel_.estimator_.coef_ == 0))"
   ]
  },
  {
   "cell_type": "code",
   "execution_count": 22,
   "metadata": {},
   "outputs": [
    {
     "data": {
      "text/plain": [
       "LogisticRegression(C=1.0, class_weight=None, dual=False, fit_intercept=True,\n",
       "                   intercept_scaling=1, l1_ratio=None, max_iter=100,\n",
       "                   multi_class='warn', n_jobs=None, penalty='l1',\n",
       "                   random_state=None, solver='liblinear', tol=0.0001, verbose=0,\n",
       "                   warm_start=False)"
      ]
     },
     "execution_count": 22,
     "metadata": {},
     "output_type": "execute_result"
    }
   ],
   "source": [
    "logmodel = LogisticRegression(solver='liblinear', penalty='l1')\n",
    "logmodel.fit(X_train_scaled, y_train)"
   ]
  },
  {
   "cell_type": "code",
   "execution_count": 23,
   "metadata": {},
   "outputs": [],
   "source": [
    "log_pred = logmodel.predict(X_test_scaled)"
   ]
  },
  {
   "cell_type": "code",
   "execution_count": 24,
   "metadata": {},
   "outputs": [
    {
     "data": {
      "text/plain": [
       "9.992007221626415e-16"
      ]
     },
     "execution_count": 24,
     "metadata": {},
     "output_type": "execute_result"
    }
   ],
   "source": [
    "log_loss(y_test, log_pred)"
   ]
  },
  {
   "cell_type": "code",
   "execution_count": 25,
   "metadata": {},
   "outputs": [
    {
     "data": {
      "text/plain": [
       "(49386,)"
      ]
     },
     "execution_count": 25,
     "metadata": {},
     "output_type": "execute_result"
    }
   ],
   "source": [
    "np.array(X.columns).shape"
   ]
  },
  {
   "cell_type": "code",
   "execution_count": 26,
   "metadata": {},
   "outputs": [
    {
     "data": {
      "text/plain": [
       "{'11758028_s_at': -0.2186107860553943,\n",
       " '11719434_a_at': -0.20547660825322983,\n",
       " '11750604_a_at': -0.14012415465721273,\n",
       " '11721124_s_at': -0.13059768344604544,\n",
       " '11728232_a_at': -0.11900453149811142,\n",
       " '11729574_at': -0.10989849875129629,\n",
       " '11718930_a_at': -0.09789621984380811,\n",
       " '11719562_at': -0.09033781969718047,\n",
       " '11728607_a_at': -0.08896025069107977,\n",
       " '11715865_a_at': -0.08444450242486165,\n",
       " '11750189_s_at': -0.08391157439663283,\n",
       " '11739128_a_at': -0.08169829559839462,\n",
       " '11728234_a_at': -0.08108507729847352,\n",
       " '11747996_a_at': -0.0804342720695597,\n",
       " '11722199_at': -0.07816387185612525,\n",
       " '11744718_a_at': -0.07315271541315918,\n",
       " '11722783_at': -0.07202681417190117,\n",
       " '11720032_a_at': -0.06877555765362368,\n",
       " '11715352_x_at': -0.06542328289520613,\n",
       " '11746931_a_at': -0.06287403259453758,\n",
       " '11741057_a_at': -0.06111113171120989,\n",
       " '11744030_a_at': -0.060289592142312984,\n",
       " '11726432_a_at': -0.05373025293774739,\n",
       " '11746497_a_at': -0.04932984563580223,\n",
       " '11742938_at': -0.04807416927120657,\n",
       " '11721993_at': -0.045265211325668304,\n",
       " '11746775_s_at': -0.039165198594887894,\n",
       " '11715351_at': -0.03759795356772965,\n",
       " '11756284_x_at': -0.0358966528231863,\n",
       " '11724988_a_at': -0.032551617916627154,\n",
       " '11733706_s_at': -0.028158701572820605,\n",
       " '11749164_a_at': -0.026190488412779572,\n",
       " '11743483_a_at': -0.025488202744272884,\n",
       " '11744628_x_at': -0.024987654996642482,\n",
       " '11723069_at': -0.024905579562233056,\n",
       " '11744031_at': -0.024670505793220335,\n",
       " '11739280_a_at': -0.023886421533854448,\n",
       " '11733375_a_at': -0.023732364321761217,\n",
       " '11750685_a_at': -0.022397746322283123,\n",
       " '11751904_x_at': -0.021578477474935943,\n",
       " '11732404_a_at': -0.01943789123319732,\n",
       " '11731254_x_at': -0.0188123692216957,\n",
       " '11734548_a_at': -0.018514707619449313,\n",
       " '11745020_a_at': -0.0182345894253927,\n",
       " '11735116_a_at': -0.016590685178949138,\n",
       " '11715353_s_at': -0.015696705437060313,\n",
       " '11728985_s_at': -0.01470151694749367,\n",
       " '11756344_a_at': -0.013996838642623353,\n",
       " '11744691_x_at': -0.013810219279359007,\n",
       " '11727658_s_at': -0.013746671573434005,\n",
       " '11744989_x_at': -0.013460141453178098,\n",
       " '11735833_a_at': -0.013008850246910486,\n",
       " '11716379_s_at': -0.012686533852685047,\n",
       " '11754760_a_at': -0.01249121023487272,\n",
       " '11746389_a_at': -0.011284815885900499,\n",
       " '11724510_at': -0.011029133527107845,\n",
       " '11721705_at': -0.010346951071047925,\n",
       " '11756316_a_at': -0.010104427366821522,\n",
       " '11744162_a_at': -0.009877804557984038,\n",
       " '11723207_at': -0.009548326208427878,\n",
       " '11723678_at': -0.008715194953377373,\n",
       " '200037_PM_s_at': -0.008711011427040331,\n",
       " '11715454_at': -0.00836646862662692,\n",
       " '11725366_s_at': -0.008187909951673495,\n",
       " '11757383_a_at': -0.007683298104890055,\n",
       " '11734549_s_at': -0.007573576230380642,\n",
       " '11731899_s_at': -0.0071108234812449,\n",
       " '11755595_a_at': -0.005878395233641831,\n",
       " '11716139_s_at': -0.0041434388438415645,\n",
       " '11732460_a_at': -0.0038682735082571783,\n",
       " '11756343_a_at': -0.0038631498313417044,\n",
       " '11757773_x_at': -0.0036270950962516333,\n",
       " '11722577_a_at': -0.0034344481684084327,\n",
       " '11728259_a_at': -0.0031055175425370504,\n",
       " '11737982_a_at': -0.002225689857919443,\n",
       " '11743856_a_at': -0.001089284171200193,\n",
       " '11764247_s_at': -0.000833039969427884,\n",
       " '11728528_a_at': -0.0005820011005358092,\n",
       " '11744033_s_at': -0.0004650766821129054,\n",
       " '11727556_a_at': -0.0002481357037782937,\n",
       " '11718290_a_at': -0.00024652253479664306,\n",
       " '11746733_x_at': 0.00022555556604372522,\n",
       " '11726105_s_at': 0.0004256318136904505,\n",
       " '11756822_s_at': 0.0007629511540093193,\n",
       " '11732011_at': 0.0007964274697106512,\n",
       " '11755394_a_at': 0.001648361685337814,\n",
       " '11724221_at': 0.0019186815380653286,\n",
       " '11734939_a_at': 0.0022074900247036483,\n",
       " '11745192_a_at': 0.0029884413547331804,\n",
       " '11751489_a_at': 0.004622935608198807,\n",
       " '11725770_x_at': 0.005262745994309617,\n",
       " '11743332_a_at': 0.005850579181500052,\n",
       " '11736191_s_at': 0.006636248746982411,\n",
       " '11759464_at': 0.007652509978125332,\n",
       " '11724966_s_at': 0.00797813349806914,\n",
       " '11715753_a_at': 0.00839614463948981,\n",
       " '11721389_a_at': 0.009632880595296135,\n",
       " '11732838_at': 0.011635800798532044,\n",
       " '11721188_a_at': 0.011875334943569783,\n",
       " '11719592_at': 0.012088981859620977,\n",
       " '11747839_a_at': 0.01223285785791351,\n",
       " '11723599_a_at': 0.013427492091866982,\n",
       " '11725033_a_at': 0.01687720741053027,\n",
       " '11758781_at': 0.018648152493270266,\n",
       " '11723411_s_at': 0.018889091719844067,\n",
       " '11740358_a_at': 0.01891144630345642,\n",
       " '11752964_a_at': 0.02026031777751097,\n",
       " '11728998_x_at': 0.021051120208590797,\n",
       " '11747714_a_at': 0.02266833596512288,\n",
       " '11734453_at': 0.02349668575986254,\n",
       " '11754874_a_at': 0.02403853765623451,\n",
       " '11732012_x_at': 0.02687792958900836,\n",
       " '11736541_a_at': 0.027679356888334745,\n",
       " '11749240_a_at': 0.027948765227906507,\n",
       " '11763264_at': 0.028992273394634675,\n",
       " '11740060_at': 0.03084388043852153,\n",
       " '11723282_a_at': 0.03235295899660934,\n",
       " '11715104_s_at': 0.03506135677534167,\n",
       " '11763511_a_at': 0.0402842958383994,\n",
       " '11735292_at': 0.04056717220528265,\n",
       " '11737793_a_at': 0.041942719247180064,\n",
       " '11723222_s_at': 0.04376612641032022,\n",
       " '11728504_a_at': 0.0439013536481149,\n",
       " '11723246_s_at': 0.0452474523582589,\n",
       " '11750019_x_at': 0.048570370156415334,\n",
       " '11740766_a_at': 0.05412864540789717,\n",
       " '11738835_x_at': 0.05620211193735135,\n",
       " '11755349_a_at': 0.0603876213379634,\n",
       " '11724538_a_at': 0.061394522387844354,\n",
       " '11733581_a_at': 0.06485813757692498,\n",
       " '11722527_s_at': 0.0660319466651152,\n",
       " '11729993_at': 0.06624188999173818,\n",
       " '11716912_x_at': 0.07021496734218295,\n",
       " '11735331_a_at': 0.07136226113645452,\n",
       " '11739036_a_at': 0.07517160592033312,\n",
       " '11763971_at': 0.08459774761464413,\n",
       " '11756294_a_at': 0.08659038946403794,\n",
       " '11729751_a_at': 0.09614299562790932,\n",
       " '11754709_x_at': 0.0969434741364365,\n",
       " '11723247_a_at': 0.09821660067962529,\n",
       " '11723245_a_at': 0.12113546390949928,\n",
       " '11730091_at': 0.12188840106509691,\n",
       " '11736509_x_at': 0.19125218647925296}"
      ]
     },
     "execution_count": 26,
     "metadata": {},
     "output_type": "execute_result"
    }
   ],
   "source": [
    "arr = dict(zip(np.array(X.columns), logmodel.coef_.reshape(X.columns.shape[0])))\n",
    "arr\n",
    "\n",
    "filtered_arr = dict()\n",
    "\n",
    "for key, value in arr.items():\n",
    "    if value != 0:\n",
    "        filtered_arr[key] = value\n",
    "        \n",
    "len(filtered_arr)\n",
    "\n",
    "{k: v for k, v in sorted(filtered_arr.items(), key=lambda item: item[1])}"
   ]
  },
  {
   "cell_type": "markdown",
   "metadata": {},
   "source": [
    "### Feature Importance"
   ]
  },
  {
   "cell_type": "code",
   "execution_count": 32,
   "metadata": {
    "collapsed": true,
    "jupyter": {
     "outputs_hidden": true
    }
   },
   "outputs": [
    {
     "name": "stderr",
     "output_type": "stream",
     "text": [
      "15-May-2020 10:42:32 DEBUG utils - Directory ./ already exists. Skipping.\n",
      "15-May-2020 10:42:32 INFO GEOparse - File already exist: using local version.\n",
      "15-May-2020 10:42:32 INFO GEOparse - Parsing ./GSE44076_family.soft.gz: \n",
      "15-May-2020 10:42:32 DEBUG GEOparse - DATABASE: GeoMiame\n",
      "15-May-2020 10:42:32 DEBUG GEOparse - SERIES: GSE44076\n",
      "15-May-2020 10:42:32 DEBUG GEOparse - PLATFORM: GPL13667\n",
      "C:\\Users\\tupha\\Anaconda3\\lib\\site-packages\\GEOparse\\GEOparse.py:104: DtypeWarning: Columns (17) have mixed types. Specify dtype option on import or set low_memory=False.\n",
      "  return parse_GSE(filepath)\n",
      "15-May-2020 10:42:36 DEBUG GEOparse - SAMPLE: GSM1077598\n",
      "15-May-2020 10:42:36 DEBUG GEOparse - SAMPLE: GSM1077599\n",
      "15-May-2020 10:42:36 DEBUG GEOparse - SAMPLE: GSM1077600\n",
      "15-May-2020 10:42:37 DEBUG GEOparse - SAMPLE: GSM1077601\n",
      "15-May-2020 10:42:37 DEBUG GEOparse - SAMPLE: GSM1077602\n",
      "15-May-2020 10:42:37 DEBUG GEOparse - SAMPLE: GSM1077603\n",
      "15-May-2020 10:42:37 DEBUG GEOparse - SAMPLE: GSM1077604\n",
      "15-May-2020 10:42:37 DEBUG GEOparse - SAMPLE: GSM1077605\n",
      "15-May-2020 10:42:37 DEBUG GEOparse - SAMPLE: GSM1077606\n",
      "15-May-2020 10:42:37 DEBUG GEOparse - SAMPLE: GSM1077607\n",
      "15-May-2020 10:42:37 DEBUG GEOparse - SAMPLE: GSM1077608\n",
      "15-May-2020 10:42:37 DEBUG GEOparse - SAMPLE: GSM1077609\n",
      "15-May-2020 10:42:38 DEBUG GEOparse - SAMPLE: GSM1077610\n",
      "15-May-2020 10:42:38 DEBUG GEOparse - SAMPLE: GSM1077611\n",
      "15-May-2020 10:42:38 DEBUG GEOparse - SAMPLE: GSM1077612\n",
      "15-May-2020 10:42:38 DEBUG GEOparse - SAMPLE: GSM1077613\n",
      "15-May-2020 10:42:38 DEBUG GEOparse - SAMPLE: GSM1077614\n",
      "15-May-2020 10:42:38 DEBUG GEOparse - SAMPLE: GSM1077615\n",
      "15-May-2020 10:42:38 DEBUG GEOparse - SAMPLE: GSM1077616\n",
      "15-May-2020 10:42:38 DEBUG GEOparse - SAMPLE: GSM1077617\n",
      "15-May-2020 10:42:38 DEBUG GEOparse - SAMPLE: GSM1077618\n",
      "15-May-2020 10:42:39 DEBUG GEOparse - SAMPLE: GSM1077619\n",
      "15-May-2020 10:42:39 DEBUG GEOparse - SAMPLE: GSM1077620\n",
      "15-May-2020 10:42:39 DEBUG GEOparse - SAMPLE: GSM1077621\n",
      "15-May-2020 10:42:39 DEBUG GEOparse - SAMPLE: GSM1077622\n",
      "15-May-2020 10:42:39 DEBUG GEOparse - SAMPLE: GSM1077623\n",
      "15-May-2020 10:42:39 DEBUG GEOparse - SAMPLE: GSM1077624\n",
      "15-May-2020 10:42:39 DEBUG GEOparse - SAMPLE: GSM1077625\n",
      "15-May-2020 10:42:39 DEBUG GEOparse - SAMPLE: GSM1077626\n",
      "15-May-2020 10:42:39 DEBUG GEOparse - SAMPLE: GSM1077627\n",
      "15-May-2020 10:42:40 DEBUG GEOparse - SAMPLE: GSM1077628\n",
      "15-May-2020 10:42:40 DEBUG GEOparse - SAMPLE: GSM1077629\n",
      "15-May-2020 10:42:40 DEBUG GEOparse - SAMPLE: GSM1077630\n",
      "15-May-2020 10:42:40 DEBUG GEOparse - SAMPLE: GSM1077631\n",
      "15-May-2020 10:42:40 DEBUG GEOparse - SAMPLE: GSM1077632\n",
      "15-May-2020 10:42:40 DEBUG GEOparse - SAMPLE: GSM1077633\n",
      "15-May-2020 10:42:40 DEBUG GEOparse - SAMPLE: GSM1077634\n",
      "15-May-2020 10:42:40 DEBUG GEOparse - SAMPLE: GSM1077635\n",
      "15-May-2020 10:42:40 DEBUG GEOparse - SAMPLE: GSM1077636\n",
      "15-May-2020 10:42:41 DEBUG GEOparse - SAMPLE: GSM1077637\n",
      "15-May-2020 10:42:41 DEBUG GEOparse - SAMPLE: GSM1077638\n",
      "15-May-2020 10:42:41 DEBUG GEOparse - SAMPLE: GSM1077639\n",
      "15-May-2020 10:42:41 DEBUG GEOparse - SAMPLE: GSM1077640\n",
      "15-May-2020 10:42:41 DEBUG GEOparse - SAMPLE: GSM1077641\n",
      "15-May-2020 10:42:41 DEBUG GEOparse - SAMPLE: GSM1077642\n",
      "15-May-2020 10:42:41 DEBUG GEOparse - SAMPLE: GSM1077643\n",
      "15-May-2020 10:42:41 DEBUG GEOparse - SAMPLE: GSM1077644\n",
      "15-May-2020 10:42:41 DEBUG GEOparse - SAMPLE: GSM1077645\n",
      "15-May-2020 10:42:42 DEBUG GEOparse - SAMPLE: GSM1077646\n",
      "15-May-2020 10:42:42 DEBUG GEOparse - SAMPLE: GSM1077647\n",
      "15-May-2020 10:42:42 DEBUG GEOparse - SAMPLE: GSM1077648\n",
      "15-May-2020 10:42:42 DEBUG GEOparse - SAMPLE: GSM1077649\n",
      "15-May-2020 10:42:42 DEBUG GEOparse - SAMPLE: GSM1077650\n",
      "15-May-2020 10:42:42 DEBUG GEOparse - SAMPLE: GSM1077651\n",
      "15-May-2020 10:42:42 DEBUG GEOparse - SAMPLE: GSM1077652\n",
      "15-May-2020 10:42:42 DEBUG GEOparse - SAMPLE: GSM1077653\n",
      "15-May-2020 10:42:42 DEBUG GEOparse - SAMPLE: GSM1077654\n",
      "15-May-2020 10:42:43 DEBUG GEOparse - SAMPLE: GSM1077655\n",
      "15-May-2020 10:42:43 DEBUG GEOparse - SAMPLE: GSM1077656\n",
      "15-May-2020 10:42:43 DEBUG GEOparse - SAMPLE: GSM1077657\n",
      "15-May-2020 10:42:43 DEBUG GEOparse - SAMPLE: GSM1077658\n",
      "15-May-2020 10:42:43 DEBUG GEOparse - SAMPLE: GSM1077659\n",
      "15-May-2020 10:42:43 DEBUG GEOparse - SAMPLE: GSM1077660\n",
      "15-May-2020 10:42:43 DEBUG GEOparse - SAMPLE: GSM1077661\n",
      "15-May-2020 10:42:43 DEBUG GEOparse - SAMPLE: GSM1077662\n",
      "15-May-2020 10:42:43 DEBUG GEOparse - SAMPLE: GSM1077663\n",
      "15-May-2020 10:42:44 DEBUG GEOparse - SAMPLE: GSM1077664\n",
      "15-May-2020 10:42:44 DEBUG GEOparse - SAMPLE: GSM1077665\n",
      "15-May-2020 10:42:44 DEBUG GEOparse - SAMPLE: GSM1077666\n",
      "15-May-2020 10:42:44 DEBUG GEOparse - SAMPLE: GSM1077667\n",
      "15-May-2020 10:42:44 DEBUG GEOparse - SAMPLE: GSM1077668\n",
      "15-May-2020 10:42:44 DEBUG GEOparse - SAMPLE: GSM1077669\n",
      "15-May-2020 10:42:44 DEBUG GEOparse - SAMPLE: GSM1077670\n",
      "15-May-2020 10:42:44 DEBUG GEOparse - SAMPLE: GSM1077671\n",
      "15-May-2020 10:42:45 DEBUG GEOparse - SAMPLE: GSM1077672\n",
      "15-May-2020 10:42:45 DEBUG GEOparse - SAMPLE: GSM1077673\n",
      "15-May-2020 10:42:45 DEBUG GEOparse - SAMPLE: GSM1077674\n",
      "15-May-2020 10:42:45 DEBUG GEOparse - SAMPLE: GSM1077675\n",
      "15-May-2020 10:42:45 DEBUG GEOparse - SAMPLE: GSM1077676\n",
      "15-May-2020 10:42:45 DEBUG GEOparse - SAMPLE: GSM1077677\n",
      "15-May-2020 10:42:45 DEBUG GEOparse - SAMPLE: GSM1077678\n",
      "15-May-2020 10:42:45 DEBUG GEOparse - SAMPLE: GSM1077679\n",
      "15-May-2020 10:42:45 DEBUG GEOparse - SAMPLE: GSM1077680\n",
      "15-May-2020 10:42:46 DEBUG GEOparse - SAMPLE: GSM1077681\n",
      "15-May-2020 10:42:46 DEBUG GEOparse - SAMPLE: GSM1077682\n",
      "15-May-2020 10:42:46 DEBUG GEOparse - SAMPLE: GSM1077683\n",
      "15-May-2020 10:42:46 DEBUG GEOparse - SAMPLE: GSM1077684\n",
      "15-May-2020 10:42:46 DEBUG GEOparse - SAMPLE: GSM1077685\n",
      "15-May-2020 10:42:46 DEBUG GEOparse - SAMPLE: GSM1077686\n",
      "15-May-2020 10:42:46 DEBUG GEOparse - SAMPLE: GSM1077687\n",
      "15-May-2020 10:42:46 DEBUG GEOparse - SAMPLE: GSM1077688\n",
      "15-May-2020 10:42:46 DEBUG GEOparse - SAMPLE: GSM1077689\n",
      "15-May-2020 10:42:47 DEBUG GEOparse - SAMPLE: GSM1077690\n",
      "15-May-2020 10:42:47 DEBUG GEOparse - SAMPLE: GSM1077691\n",
      "15-May-2020 10:42:47 DEBUG GEOparse - SAMPLE: GSM1077692\n",
      "15-May-2020 10:42:47 DEBUG GEOparse - SAMPLE: GSM1077693\n",
      "15-May-2020 10:42:47 DEBUG GEOparse - SAMPLE: GSM1077694\n",
      "15-May-2020 10:42:47 DEBUG GEOparse - SAMPLE: GSM1077695\n",
      "15-May-2020 10:42:47 DEBUG GEOparse - SAMPLE: GSM1077696\n",
      "15-May-2020 10:42:47 DEBUG GEOparse - SAMPLE: GSM1077697\n",
      "15-May-2020 10:42:47 DEBUG GEOparse - SAMPLE: GSM1077698\n",
      "15-May-2020 10:42:48 DEBUG GEOparse - SAMPLE: GSM1077699\n",
      "15-May-2020 10:42:48 DEBUG GEOparse - SAMPLE: GSM1077700\n",
      "15-May-2020 10:42:48 DEBUG GEOparse - SAMPLE: GSM1077701\n",
      "15-May-2020 10:42:48 DEBUG GEOparse - SAMPLE: GSM1077702\n",
      "15-May-2020 10:42:48 DEBUG GEOparse - SAMPLE: GSM1077703\n",
      "15-May-2020 10:42:48 DEBUG GEOparse - SAMPLE: GSM1077704\n",
      "15-May-2020 10:42:48 DEBUG GEOparse - SAMPLE: GSM1077705\n",
      "15-May-2020 10:42:48 DEBUG GEOparse - SAMPLE: GSM1077706\n",
      "15-May-2020 10:42:48 DEBUG GEOparse - SAMPLE: GSM1077707\n",
      "15-May-2020 10:42:49 DEBUG GEOparse - SAMPLE: GSM1077708\n",
      "15-May-2020 10:42:49 DEBUG GEOparse - SAMPLE: GSM1077709\n",
      "15-May-2020 10:42:49 DEBUG GEOparse - SAMPLE: GSM1077710\n",
      "15-May-2020 10:42:49 DEBUG GEOparse - SAMPLE: GSM1077711\n",
      "15-May-2020 10:42:49 DEBUG GEOparse - SAMPLE: GSM1077712\n",
      "15-May-2020 10:42:49 DEBUG GEOparse - SAMPLE: GSM1077713\n",
      "15-May-2020 10:42:49 DEBUG GEOparse - SAMPLE: GSM1077714\n",
      "15-May-2020 10:42:49 DEBUG GEOparse - SAMPLE: GSM1077715\n",
      "15-May-2020 10:42:49 DEBUG GEOparse - SAMPLE: GSM1077716\n",
      "15-May-2020 10:42:50 DEBUG GEOparse - SAMPLE: GSM1077717\n",
      "15-May-2020 10:42:50 DEBUG GEOparse - SAMPLE: GSM1077718\n",
      "15-May-2020 10:42:50 DEBUG GEOparse - SAMPLE: GSM1077719\n",
      "15-May-2020 10:42:50 DEBUG GEOparse - SAMPLE: GSM1077720\n",
      "15-May-2020 10:42:50 DEBUG GEOparse - SAMPLE: GSM1077721\n",
      "15-May-2020 10:42:50 DEBUG GEOparse - SAMPLE: GSM1077722\n",
      "15-May-2020 10:42:50 DEBUG GEOparse - SAMPLE: GSM1077723\n",
      "15-May-2020 10:42:50 DEBUG GEOparse - SAMPLE: GSM1077724\n",
      "15-May-2020 10:42:50 DEBUG GEOparse - SAMPLE: GSM1077725\n",
      "15-May-2020 10:42:51 DEBUG GEOparse - SAMPLE: GSM1077726\n",
      "15-May-2020 10:42:51 DEBUG GEOparse - SAMPLE: GSM1077727\n",
      "15-May-2020 10:42:51 DEBUG GEOparse - SAMPLE: GSM1077728\n",
      "15-May-2020 10:42:51 DEBUG GEOparse - SAMPLE: GSM1077729\n",
      "15-May-2020 10:42:51 DEBUG GEOparse - SAMPLE: GSM1077730\n",
      "15-May-2020 10:42:51 DEBUG GEOparse - SAMPLE: GSM1077731\n",
      "15-May-2020 10:42:51 DEBUG GEOparse - SAMPLE: GSM1077732\n",
      "15-May-2020 10:42:51 DEBUG GEOparse - SAMPLE: GSM1077733\n",
      "15-May-2020 10:42:51 DEBUG GEOparse - SAMPLE: GSM1077734\n",
      "15-May-2020 10:42:52 DEBUG GEOparse - SAMPLE: GSM1077735\n",
      "15-May-2020 10:42:52 DEBUG GEOparse - SAMPLE: GSM1077736\n",
      "15-May-2020 10:42:52 DEBUG GEOparse - SAMPLE: GSM1077737\n",
      "15-May-2020 10:42:52 DEBUG GEOparse - SAMPLE: GSM1077738\n",
      "15-May-2020 10:42:52 DEBUG GEOparse - SAMPLE: GSM1077739\n",
      "15-May-2020 10:42:52 DEBUG GEOparse - SAMPLE: GSM1077740\n",
      "15-May-2020 10:42:52 DEBUG GEOparse - SAMPLE: GSM1077741\n",
      "15-May-2020 10:42:52 DEBUG GEOparse - SAMPLE: GSM1077742\n",
      "15-May-2020 10:42:52 DEBUG GEOparse - SAMPLE: GSM1077743\n",
      "15-May-2020 10:42:52 DEBUG GEOparse - SAMPLE: GSM1077744\n",
      "15-May-2020 10:42:53 DEBUG GEOparse - SAMPLE: GSM1077745\n",
      "15-May-2020 10:42:53 DEBUG GEOparse - SAMPLE: GSM1077746\n",
      "15-May-2020 10:42:53 DEBUG GEOparse - SAMPLE: GSM1077747\n",
      "15-May-2020 10:42:53 DEBUG GEOparse - SAMPLE: GSM1077748\n",
      "15-May-2020 10:42:53 DEBUG GEOparse - SAMPLE: GSM1077749\n",
      "15-May-2020 10:42:53 DEBUG GEOparse - SAMPLE: GSM1077750\n",
      "15-May-2020 10:42:53 DEBUG GEOparse - SAMPLE: GSM1077751\n",
      "15-May-2020 10:42:53 DEBUG GEOparse - SAMPLE: GSM1077752\n",
      "15-May-2020 10:42:53 DEBUG GEOparse - SAMPLE: GSM1077753\n",
      "15-May-2020 10:42:54 DEBUG GEOparse - SAMPLE: GSM1077754\n",
      "15-May-2020 10:42:54 DEBUG GEOparse - SAMPLE: GSM1077755\n",
      "15-May-2020 10:42:54 DEBUG GEOparse - SAMPLE: GSM1077756\n",
      "15-May-2020 10:42:54 DEBUG GEOparse - SAMPLE: GSM1077757\n",
      "15-May-2020 10:42:54 DEBUG GEOparse - SAMPLE: GSM1077758\n",
      "15-May-2020 10:42:54 DEBUG GEOparse - SAMPLE: GSM1077759\n",
      "15-May-2020 10:42:54 DEBUG GEOparse - SAMPLE: GSM1077760\n",
      "15-May-2020 10:42:54 DEBUG GEOparse - SAMPLE: GSM1077761\n",
      "15-May-2020 10:42:54 DEBUG GEOparse - SAMPLE: GSM1077762\n",
      "15-May-2020 10:42:55 DEBUG GEOparse - SAMPLE: GSM1077763\n",
      "15-May-2020 10:42:55 DEBUG GEOparse - SAMPLE: GSM1077764\n",
      "15-May-2020 10:42:55 DEBUG GEOparse - SAMPLE: GSM1077765\n",
      "15-May-2020 10:42:55 DEBUG GEOparse - SAMPLE: GSM1077766\n",
      "15-May-2020 10:42:55 DEBUG GEOparse - SAMPLE: GSM1077767\n",
      "15-May-2020 10:42:55 DEBUG GEOparse - SAMPLE: GSM1077768\n",
      "15-May-2020 10:42:55 DEBUG GEOparse - SAMPLE: GSM1077769\n",
      "15-May-2020 10:42:55 DEBUG GEOparse - SAMPLE: GSM1077770\n",
      "15-May-2020 10:42:55 DEBUG GEOparse - SAMPLE: GSM1077771\n",
      "15-May-2020 10:42:56 DEBUG GEOparse - SAMPLE: GSM1077772\n",
      "15-May-2020 10:42:56 DEBUG GEOparse - SAMPLE: GSM1077773\n",
      "15-May-2020 10:42:56 DEBUG GEOparse - SAMPLE: GSM1077774\n",
      "15-May-2020 10:42:56 DEBUG GEOparse - SAMPLE: GSM1077775\n",
      "15-May-2020 10:42:56 DEBUG GEOparse - SAMPLE: GSM1077776\n",
      "15-May-2020 10:42:56 DEBUG GEOparse - SAMPLE: GSM1077777\n",
      "15-May-2020 10:42:56 DEBUG GEOparse - SAMPLE: GSM1077778\n",
      "15-May-2020 10:42:56 DEBUG GEOparse - SAMPLE: GSM1077779\n",
      "15-May-2020 10:42:56 DEBUG GEOparse - SAMPLE: GSM1077780\n",
      "15-May-2020 10:42:56 DEBUG GEOparse - SAMPLE: GSM1077781\n",
      "15-May-2020 10:42:57 DEBUG GEOparse - SAMPLE: GSM1077782\n",
      "15-May-2020 10:42:57 DEBUG GEOparse - SAMPLE: GSM1077783\n",
      "15-May-2020 10:42:57 DEBUG GEOparse - SAMPLE: GSM1077784\n",
      "15-May-2020 10:42:57 DEBUG GEOparse - SAMPLE: GSM1077785\n",
      "15-May-2020 10:42:57 DEBUG GEOparse - SAMPLE: GSM1077786\n",
      "15-May-2020 10:42:57 DEBUG GEOparse - SAMPLE: GSM1077787\n",
      "15-May-2020 10:42:57 DEBUG GEOparse - SAMPLE: GSM1077788\n",
      "15-May-2020 10:42:57 DEBUG GEOparse - SAMPLE: GSM1077789\n",
      "15-May-2020 10:42:57 DEBUG GEOparse - SAMPLE: GSM1077790\n",
      "15-May-2020 10:42:58 DEBUG GEOparse - SAMPLE: GSM1077791\n",
      "15-May-2020 10:42:58 DEBUG GEOparse - SAMPLE: GSM1077792\n",
      "15-May-2020 10:42:58 DEBUG GEOparse - SAMPLE: GSM1077793\n",
      "15-May-2020 10:42:58 DEBUG GEOparse - SAMPLE: GSM1077794\n",
      "15-May-2020 10:42:58 DEBUG GEOparse - SAMPLE: GSM1077795\n",
      "15-May-2020 10:42:58 DEBUG GEOparse - SAMPLE: GSM1077796\n",
      "15-May-2020 10:42:58 DEBUG GEOparse - SAMPLE: GSM1077797\n",
      "15-May-2020 10:42:58 DEBUG GEOparse - SAMPLE: GSM1077798\n",
      "15-May-2020 10:42:58 DEBUG GEOparse - SAMPLE: GSM1077799\n",
      "15-May-2020 10:42:59 DEBUG GEOparse - SAMPLE: GSM1077800\n",
      "15-May-2020 10:42:59 DEBUG GEOparse - SAMPLE: GSM1077801\n",
      "15-May-2020 10:42:59 DEBUG GEOparse - SAMPLE: GSM1077802\n",
      "15-May-2020 10:42:59 DEBUG GEOparse - SAMPLE: GSM1077803\n",
      "15-May-2020 10:42:59 DEBUG GEOparse - SAMPLE: GSM1077804\n",
      "15-May-2020 10:42:59 DEBUG GEOparse - SAMPLE: GSM1077805\n",
      "15-May-2020 10:42:59 DEBUG GEOparse - SAMPLE: GSM1077806\n",
      "15-May-2020 10:42:59 DEBUG GEOparse - SAMPLE: GSM1077807\n",
      "15-May-2020 10:42:59 DEBUG GEOparse - SAMPLE: GSM1077808\n",
      "15-May-2020 10:43:00 DEBUG GEOparse - SAMPLE: GSM1077809\n",
      "15-May-2020 10:43:00 DEBUG GEOparse - SAMPLE: GSM1077810\n",
      "15-May-2020 10:43:00 DEBUG GEOparse - SAMPLE: GSM1077811\n",
      "15-May-2020 10:43:00 DEBUG GEOparse - SAMPLE: GSM1077812\n",
      "15-May-2020 10:43:00 DEBUG GEOparse - SAMPLE: GSM1077813\n",
      "15-May-2020 10:43:00 DEBUG GEOparse - SAMPLE: GSM1077814\n",
      "15-May-2020 10:43:00 DEBUG GEOparse - SAMPLE: GSM1077815\n",
      "15-May-2020 10:43:00 DEBUG GEOparse - SAMPLE: GSM1077816\n",
      "15-May-2020 10:43:00 DEBUG GEOparse - SAMPLE: GSM1077817\n",
      "15-May-2020 10:43:01 DEBUG GEOparse - SAMPLE: GSM1077818\n",
      "15-May-2020 10:43:01 DEBUG GEOparse - SAMPLE: GSM1077819\n",
      "15-May-2020 10:43:01 DEBUG GEOparse - SAMPLE: GSM1077820\n",
      "15-May-2020 10:43:01 DEBUG GEOparse - SAMPLE: GSM1077821\n",
      "15-May-2020 10:43:01 DEBUG GEOparse - SAMPLE: GSM1077822\n",
      "15-May-2020 10:43:01 DEBUG GEOparse - SAMPLE: GSM1077823\n",
      "15-May-2020 10:43:01 DEBUG GEOparse - SAMPLE: GSM1077824\n",
      "15-May-2020 10:43:01 DEBUG GEOparse - SAMPLE: GSM1077825\n",
      "15-May-2020 10:43:01 DEBUG GEOparse - SAMPLE: GSM1077826\n",
      "15-May-2020 10:43:01 DEBUG GEOparse - SAMPLE: GSM1077827\n",
      "15-May-2020 10:43:02 DEBUG GEOparse - SAMPLE: GSM1077828\n",
      "15-May-2020 10:43:02 DEBUG GEOparse - SAMPLE: GSM1077829\n",
      "15-May-2020 10:43:02 DEBUG GEOparse - SAMPLE: GSM1077830\n",
      "15-May-2020 10:43:02 DEBUG GEOparse - SAMPLE: GSM1077831\n",
      "15-May-2020 10:43:02 DEBUG GEOparse - SAMPLE: GSM1077832\n",
      "15-May-2020 10:43:02 DEBUG GEOparse - SAMPLE: GSM1077833\n",
      "15-May-2020 10:43:02 DEBUG GEOparse - SAMPLE: GSM1077834\n",
      "15-May-2020 10:43:02 DEBUG GEOparse - SAMPLE: GSM1077835\n",
      "15-May-2020 10:43:02 DEBUG GEOparse - SAMPLE: GSM1077836\n",
      "15-May-2020 10:43:03 DEBUG GEOparse - SAMPLE: GSM1077837\n",
      "15-May-2020 10:43:03 DEBUG GEOparse - SAMPLE: GSM1077838\n",
      "15-May-2020 10:43:03 DEBUG GEOparse - SAMPLE: GSM1077839\n",
      "15-May-2020 10:43:03 DEBUG GEOparse - SAMPLE: GSM1077840\n",
      "15-May-2020 10:43:03 DEBUG GEOparse - SAMPLE: GSM1077841\n",
      "15-May-2020 10:43:03 DEBUG GEOparse - SAMPLE: GSM1077842\n",
      "15-May-2020 10:43:03 DEBUG GEOparse - SAMPLE: GSM1077843\n"
     ]
    }
   ],
   "source": [
    "#Getting the geneID for their respective probeset\n",
    "\n",
    "probeset, columns = get_geneID('GSE44076','GSM1077598', 'GPL13667')"
   ]
  },
  {
   "cell_type": "code",
   "execution_count": 78,
   "metadata": {},
   "outputs": [
    {
     "data": {
      "text/html": [
       "<div>\n",
       "<style scoped>\n",
       "    .dataframe tbody tr th:only-of-type {\n",
       "        vertical-align: middle;\n",
       "    }\n",
       "\n",
       "    .dataframe tbody tr th {\n",
       "        vertical-align: top;\n",
       "    }\n",
       "\n",
       "    .dataframe thead th {\n",
       "        text-align: right;\n",
       "    }\n",
       "</style>\n",
       "<table border=\"1\" class=\"dataframe\">\n",
       "  <thead>\n",
       "    <tr style=\"text-align: right;\">\n",
       "      <th></th>\n",
       "      <th>ID</th>\n",
       "      <th>LogModel Coefficients</th>\n",
       "      <th>GB_LIST</th>\n",
       "      <th>Gene Title</th>\n",
       "    </tr>\n",
       "    <tr>\n",
       "      <th>Gene Symbol</th>\n",
       "      <th></th>\n",
       "      <th></th>\n",
       "      <th></th>\n",
       "      <th></th>\n",
       "    </tr>\n",
       "  </thead>\n",
       "  <tbody>\n",
       "    <tr>\n",
       "      <td>FOXQ1</td>\n",
       "      <td>11758028_s_at</td>\n",
       "      <td>-0.218611</td>\n",
       "      <td>NM_033260</td>\n",
       "      <td>forkhead box Q1</td>\n",
       "    </tr>\n",
       "    <tr>\n",
       "      <td>ETV4</td>\n",
       "      <td>11719434_a_at</td>\n",
       "      <td>-0.205477</td>\n",
       "      <td>NM_001079675,NM_001986</td>\n",
       "      <td>ets variant 4</td>\n",
       "    </tr>\n",
       "    <tr>\n",
       "      <td>GTF2IRD1</td>\n",
       "      <td>11750604_a_at</td>\n",
       "      <td>-0.140124</td>\n",
       "      <td>NM_005685,NM_016328</td>\n",
       "      <td>GTF2I repeat domain containing 1</td>\n",
       "    </tr>\n",
       "    <tr>\n",
       "      <td>MMP11</td>\n",
       "      <td>11721124_s_at</td>\n",
       "      <td>-0.130598</td>\n",
       "      <td>NM_005940</td>\n",
       "      <td>matrix metallopeptidase 11 (stromelysin 3)</td>\n",
       "    </tr>\n",
       "    <tr>\n",
       "      <td>CLDN1</td>\n",
       "      <td>11728232_a_at</td>\n",
       "      <td>-0.119005</td>\n",
       "      <td>NM_021101</td>\n",
       "      <td>claudin 1</td>\n",
       "    </tr>\n",
       "    <tr>\n",
       "      <td>ENC1</td>\n",
       "      <td>11729574_at</td>\n",
       "      <td>-0.109898</td>\n",
       "      <td>NM_003633</td>\n",
       "      <td>ectodermal-neural cortex 1 (with BTB-like domain)</td>\n",
       "    </tr>\n",
       "    <tr>\n",
       "      <td>TGIF2</td>\n",
       "      <td>11718930_a_at</td>\n",
       "      <td>-0.097896</td>\n",
       "      <td>NM_021809</td>\n",
       "      <td>TGFB-induced factor homeobox 2</td>\n",
       "    </tr>\n",
       "    <tr>\n",
       "      <td>SOX4</td>\n",
       "      <td>11719562_at</td>\n",
       "      <td>-0.090338</td>\n",
       "      <td>NM_003107</td>\n",
       "      <td>SRY (sex determining region Y)-box 4</td>\n",
       "    </tr>\n",
       "    <tr>\n",
       "      <td>GRIN2D</td>\n",
       "      <td>11728607_a_at</td>\n",
       "      <td>-0.088960</td>\n",
       "      <td>NM_000836</td>\n",
       "      <td>glutamate receptor, ionotropic, N-methyl D-asp...</td>\n",
       "    </tr>\n",
       "    <tr>\n",
       "      <td>ATP6V1F</td>\n",
       "      <td>11715865_a_at</td>\n",
       "      <td>-0.084445</td>\n",
       "      <td>NM_004231</td>\n",
       "      <td>ATPase, H+ transporting, lysosomal 14kDa, V1 s...</td>\n",
       "    </tr>\n",
       "    <tr>\n",
       "      <td>CD44</td>\n",
       "      <td>11750189_s_at</td>\n",
       "      <td>-0.083912</td>\n",
       "      <td>NM_000610,NM_001001389,NM_001001390,NM_0010013...</td>\n",
       "      <td>CD44 molecule (Indian blood group)</td>\n",
       "    </tr>\n",
       "    <tr>\n",
       "      <td>CDH3</td>\n",
       "      <td>11739128_a_at</td>\n",
       "      <td>-0.081698</td>\n",
       "      <td>NM_001793</td>\n",
       "      <td>cadherin 3, type 1, P-cadherin (placental)</td>\n",
       "    </tr>\n",
       "    <tr>\n",
       "      <td>CLDN1</td>\n",
       "      <td>11728234_a_at</td>\n",
       "      <td>-0.081085</td>\n",
       "      <td>NM_021101</td>\n",
       "      <td>claudin 1</td>\n",
       "    </tr>\n",
       "    <tr>\n",
       "      <td>ETV4</td>\n",
       "      <td>11747996_a_at</td>\n",
       "      <td>-0.080434</td>\n",
       "      <td>NM_001079675,NM_001986</td>\n",
       "      <td>ets variant 4</td>\n",
       "    </tr>\n",
       "    <tr>\n",
       "      <td>ADAM12</td>\n",
       "      <td>11722199_at</td>\n",
       "      <td>-0.078164</td>\n",
       "      <td>NM_003474,NM_021641</td>\n",
       "      <td>ADAM metallopeptidase domain 12</td>\n",
       "    </tr>\n",
       "    <tr>\n",
       "      <td>ABCG2</td>\n",
       "      <td>11724538_a_at</td>\n",
       "      <td>0.061395</td>\n",
       "      <td>NM_004827</td>\n",
       "      <td>ATP-binding cassette, sub-family G (WHITE), me...</td>\n",
       "    </tr>\n",
       "    <tr>\n",
       "      <td>CA7</td>\n",
       "      <td>11733581_a_at</td>\n",
       "      <td>0.064858</td>\n",
       "      <td>NM_001014435,NM_005182</td>\n",
       "      <td>carbonic anhydrase VII</td>\n",
       "    </tr>\n",
       "    <tr>\n",
       "      <td>PTPN21</td>\n",
       "      <td>11722527_s_at</td>\n",
       "      <td>0.066032</td>\n",
       "      <td>NM_007039</td>\n",
       "      <td>protein tyrosine phosphatase, non-receptor typ...</td>\n",
       "    </tr>\n",
       "    <tr>\n",
       "      <td>STOX2</td>\n",
       "      <td>11729993_at</td>\n",
       "      <td>0.066242</td>\n",
       "      <td>NM_020225</td>\n",
       "      <td>storkhead box 2</td>\n",
       "    </tr>\n",
       "    <tr>\n",
       "      <td>NR2F6</td>\n",
       "      <td>11716912_x_at</td>\n",
       "      <td>0.070215</td>\n",
       "      <td>NM_005234</td>\n",
       "      <td>nuclear receptor subfamily 2, group F, member 6</td>\n",
       "    </tr>\n",
       "    <tr>\n",
       "      <td>RUNDC3B</td>\n",
       "      <td>11735331_a_at</td>\n",
       "      <td>0.071362</td>\n",
       "      <td>NM_001134405,NM_001134406,NM_138290</td>\n",
       "      <td>RUN domain containing 3B</td>\n",
       "    </tr>\n",
       "    <tr>\n",
       "      <td>PLP1</td>\n",
       "      <td>11739036_a_at</td>\n",
       "      <td>0.075172</td>\n",
       "      <td>NM_000533,NM_001128834,NM_199478</td>\n",
       "      <td>proteolipid protein 1</td>\n",
       "    </tr>\n",
       "    <tr>\n",
       "      <td>---</td>\n",
       "      <td>11763971_at</td>\n",
       "      <td>0.084598</td>\n",
       "      <td>AI676062</td>\n",
       "      <td>---</td>\n",
       "    </tr>\n",
       "    <tr>\n",
       "      <td>JAM2</td>\n",
       "      <td>11756294_a_at</td>\n",
       "      <td>0.086590</td>\n",
       "      <td>NM_021219</td>\n",
       "      <td>junctional adhesion molecule 2</td>\n",
       "    </tr>\n",
       "    <tr>\n",
       "      <td>LPAR1</td>\n",
       "      <td>11729751_a_at</td>\n",
       "      <td>0.096143</td>\n",
       "      <td>NM_001401,NM_057159</td>\n",
       "      <td>lysophosphatidic acid receptor 1</td>\n",
       "    </tr>\n",
       "    <tr>\n",
       "      <td>SLC25A34</td>\n",
       "      <td>11754709_x_at</td>\n",
       "      <td>0.096943</td>\n",
       "      <td>NM_207348</td>\n",
       "      <td>solute carrier family 25, member 34</td>\n",
       "    </tr>\n",
       "    <tr>\n",
       "      <td>SFRP1</td>\n",
       "      <td>11723247_a_at</td>\n",
       "      <td>0.098217</td>\n",
       "      <td>NM_003012</td>\n",
       "      <td>secreted frizzled-related protein 1</td>\n",
       "    </tr>\n",
       "    <tr>\n",
       "      <td>SFRP1</td>\n",
       "      <td>11723245_a_at</td>\n",
       "      <td>0.121135</td>\n",
       "      <td>NM_003012</td>\n",
       "      <td>secreted frizzled-related protein 1</td>\n",
       "    </tr>\n",
       "    <tr>\n",
       "      <td>BEST4</td>\n",
       "      <td>11730091_at</td>\n",
       "      <td>0.121888</td>\n",
       "      <td>NM_153274</td>\n",
       "      <td>bestrophin 4</td>\n",
       "    </tr>\n",
       "    <tr>\n",
       "      <td>IL6R</td>\n",
       "      <td>11736509_x_at</td>\n",
       "      <td>0.191252</td>\n",
       "      <td>NM_000565,NM_181359</td>\n",
       "      <td>interleukin 6 receptor</td>\n",
       "    </tr>\n",
       "  </tbody>\n",
       "</table>\n",
       "</div>"
      ],
      "text/plain": [
       "                        ID  LogModel Coefficients  \\\n",
       "Gene Symbol                                         \n",
       "FOXQ1        11758028_s_at              -0.218611   \n",
       "ETV4         11719434_a_at              -0.205477   \n",
       "GTF2IRD1     11750604_a_at              -0.140124   \n",
       "MMP11        11721124_s_at              -0.130598   \n",
       "CLDN1        11728232_a_at              -0.119005   \n",
       "ENC1           11729574_at              -0.109898   \n",
       "TGIF2        11718930_a_at              -0.097896   \n",
       "SOX4           11719562_at              -0.090338   \n",
       "GRIN2D       11728607_a_at              -0.088960   \n",
       "ATP6V1F      11715865_a_at              -0.084445   \n",
       "CD44         11750189_s_at              -0.083912   \n",
       "CDH3         11739128_a_at              -0.081698   \n",
       "CLDN1        11728234_a_at              -0.081085   \n",
       "ETV4         11747996_a_at              -0.080434   \n",
       "ADAM12         11722199_at              -0.078164   \n",
       "ABCG2        11724538_a_at               0.061395   \n",
       "CA7          11733581_a_at               0.064858   \n",
       "PTPN21       11722527_s_at               0.066032   \n",
       "STOX2          11729993_at               0.066242   \n",
       "NR2F6        11716912_x_at               0.070215   \n",
       "RUNDC3B      11735331_a_at               0.071362   \n",
       "PLP1         11739036_a_at               0.075172   \n",
       "---            11763971_at               0.084598   \n",
       "JAM2         11756294_a_at               0.086590   \n",
       "LPAR1        11729751_a_at               0.096143   \n",
       "SLC25A34     11754709_x_at               0.096943   \n",
       "SFRP1        11723247_a_at               0.098217   \n",
       "SFRP1        11723245_a_at               0.121135   \n",
       "BEST4          11730091_at               0.121888   \n",
       "IL6R         11736509_x_at               0.191252   \n",
       "\n",
       "                                                       GB_LIST  \\\n",
       "Gene Symbol                                                      \n",
       "FOXQ1                                                NM_033260   \n",
       "ETV4                                    NM_001079675,NM_001986   \n",
       "GTF2IRD1                                   NM_005685,NM_016328   \n",
       "MMP11                                                NM_005940   \n",
       "CLDN1                                                NM_021101   \n",
       "ENC1                                                 NM_003633   \n",
       "TGIF2                                                NM_021809   \n",
       "SOX4                                                 NM_003107   \n",
       "GRIN2D                                               NM_000836   \n",
       "ATP6V1F                                              NM_004231   \n",
       "CD44         NM_000610,NM_001001389,NM_001001390,NM_0010013...   \n",
       "CDH3                                                 NM_001793   \n",
       "CLDN1                                                NM_021101   \n",
       "ETV4                                    NM_001079675,NM_001986   \n",
       "ADAM12                                     NM_003474,NM_021641   \n",
       "ABCG2                                                NM_004827   \n",
       "CA7                                     NM_001014435,NM_005182   \n",
       "PTPN21                                               NM_007039   \n",
       "STOX2                                                NM_020225   \n",
       "NR2F6                                                NM_005234   \n",
       "RUNDC3B                    NM_001134405,NM_001134406,NM_138290   \n",
       "PLP1                          NM_000533,NM_001128834,NM_199478   \n",
       "---                                                   AI676062   \n",
       "JAM2                                                 NM_021219   \n",
       "LPAR1                                      NM_001401,NM_057159   \n",
       "SLC25A34                                             NM_207348   \n",
       "SFRP1                                                NM_003012   \n",
       "SFRP1                                                NM_003012   \n",
       "BEST4                                                NM_153274   \n",
       "IL6R                                       NM_000565,NM_181359   \n",
       "\n",
       "                                                    Gene Title  \n",
       "Gene Symbol                                                     \n",
       "FOXQ1                                          forkhead box Q1  \n",
       "ETV4                                             ets variant 4  \n",
       "GTF2IRD1                      GTF2I repeat domain containing 1  \n",
       "MMP11               matrix metallopeptidase 11 (stromelysin 3)  \n",
       "CLDN1                                                claudin 1  \n",
       "ENC1         ectodermal-neural cortex 1 (with BTB-like domain)  \n",
       "TGIF2                           TGFB-induced factor homeobox 2  \n",
       "SOX4                      SRY (sex determining region Y)-box 4  \n",
       "GRIN2D       glutamate receptor, ionotropic, N-methyl D-asp...  \n",
       "ATP6V1F      ATPase, H+ transporting, lysosomal 14kDa, V1 s...  \n",
       "CD44                        CD44 molecule (Indian blood group)  \n",
       "CDH3                cadherin 3, type 1, P-cadherin (placental)  \n",
       "CLDN1                                                claudin 1  \n",
       "ETV4                                             ets variant 4  \n",
       "ADAM12                         ADAM metallopeptidase domain 12  \n",
       "ABCG2        ATP-binding cassette, sub-family G (WHITE), me...  \n",
       "CA7                                     carbonic anhydrase VII  \n",
       "PTPN21       protein tyrosine phosphatase, non-receptor typ...  \n",
       "STOX2                                          storkhead box 2  \n",
       "NR2F6          nuclear receptor subfamily 2, group F, member 6  \n",
       "RUNDC3B                               RUN domain containing 3B  \n",
       "PLP1                                     proteolipid protein 1  \n",
       "---                                                        ---  \n",
       "JAM2                            junctional adhesion molecule 2  \n",
       "LPAR1                         lysophosphatidic acid receptor 1  \n",
       "SLC25A34                   solute carrier family 25, member 34  \n",
       "SFRP1                      secreted frizzled-related protein 1  \n",
       "SFRP1                      secreted frizzled-related protein 1  \n",
       "BEST4                                             bestrophin 4  \n",
       "IL6R                                    interleukin 6 receptor  "
      ]
     },
     "execution_count": 78,
     "metadata": {},
     "output_type": "execute_result"
    }
   ],
   "source": [
    "feat_scores = pd.DataFrame({'LogModel Coefficients': logmodel.coef_.reshape(X.columns.shape[0])},\n",
    "                           index=X.columns)\n",
    "\n",
    "df1 = feat_scores.sort_values(by='LogModel Coefficients')[:15]\n",
    "df2 = feat_scores.sort_values(by='LogModel Coefficients')[-15:]\n",
    "\n",
    "top_40 = df1.append(df2).reset_index()\n",
    "\n",
    "#Update ID column\n",
    "bool_mask = probeset['ID'].isin(top_40.reset_index()['index'])\n",
    "probeset[bool_mask]\n",
    "\n",
    "\n",
    "probeset[bool_mask]\n",
    "\n",
    "top_40.reset_index()\n",
    "top_40.rename({'index': 'ID'}, axis=1, inplace=True)\n",
    "\n",
    "top_40 = pd.merge(top_40, probeset[bool_mask], on=\"ID\").set_index('Gene Symbol')\n",
    "top_40"
   ]
  },
  {
   "cell_type": "code",
   "execution_count": 79,
   "metadata": {},
   "outputs": [
    {
     "data": {
      "text/plain": [
       "<matplotlib.axes._subplots.AxesSubplot at 0x18d63a5aa88>"
      ]
     },
     "execution_count": 79,
     "metadata": {},
     "output_type": "execute_result"
    },
    {
     "data": {
      "image/png": "[encoded data removed]",
      "text/plain": [
       "<Figure size 720x576 with 1 Axes>"
      ]
     },
     "metadata": {
      "needs_background": "light"
     },
     "output_type": "display_data"
    }
   ],
   "source": [
    "top_40.plot(kind='barh', figsize=(10,8), color='red')\n"
   ]
  },
  {
   "cell_type": "code",
   "execution_count": 28,
   "metadata": {},
   "outputs": [],
   "source": [
    "y_probs = logmodel.predict_proba(X_test)"
   ]
  },
  {
   "cell_type": "code",
   "execution_count": 29,
   "metadata": {},
   "outputs": [
    {
     "data": {
      "text/plain": [
       "[Text(0, 0.5, 'normal'), Text(0, 1.5, 'adenocarcinoma')]"
      ]
     },
     "execution_count": 29,
     "metadata": {},
     "output_type": "execute_result"
    },
    {
     "data": {
      "image/png": "[encoded data removed]",
      "text/plain": [
       "<Figure size 792x504 with 2 Axes>"
      ]
     },
     "metadata": {
      "needs_background": "light"
     },
     "output_type": "display_data"
    }
   ],
   "source": [
    "cm_log = confusion_matrix(y_test, log_pred)\n",
    "\n",
    "fig, ax = plt.subplots(figsize=(11,7))\n",
    "sns.heatmap(cm_log, annot=True, ax=ax, cmap='Reds')\n",
    "\n",
    "ax.set_title('Logistic Regression Confusion Matrix')\n",
    "ax.set_ylabel('True Labels')\n",
    "ax.set_xlabel('Predicted Labels')\n",
    "\n",
    "#Set tick labels\n",
    "ax.xaxis.set_ticklabels(target_labels)\n",
    "ax.yaxis.set_ticklabels(target_labels, rotation=360)"
   ]
  }
 ],
 "metadata": {
  "kernelspec": {
   "display_name": "Python 3",
   "language": "python",
   "name": "python3"
  },
  "language_info": {
   "codemirror_mode": {
    "name": "ipython",
    "version": 3
   },
   "file_extension": ".py",
   "mimetype": "text/x-python",
   "name": "python",
   "nbconvert_exporter": "python",
   "pygments_lexer": "ipython3",
   "version": "3.7.4"
  }
 },
 "nbformat": 4,
 "nbformat_minor": 4
}
